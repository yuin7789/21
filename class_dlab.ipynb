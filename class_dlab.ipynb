{
  "cells": [
    {
      "cell_type": "markdown",
      "metadata": {
        "id": "view-in-github",
        "colab_type": "text"
      },
      "source": [
        "<a href=\"https://colab.research.google.com/github/yuin7789/21/blob/master/class_dlab.ipynb\" target=\"_parent\"><img src=\"https://colab.research.google.com/assets/colab-badge.svg\" alt=\"Open In Colab\"/></a>"
      ]
    },
    {
      "cell_type": "code",
      "execution_count": null,
      "metadata": {
        "colab": {
          "base_uri": "https://localhost:8080/"
        },
        "id": "tQ1ju2zaYmVk",
        "outputId": "5131a066-f46c-4ff8-fc28-59e39d79b2f6"
      },
      "outputs": [
        {
          "output_type": "stream",
          "name": "stdout",
          "text": [
            "Mounted at /content/drive\n",
            "True\n"
          ]
        }
      ],
      "source": [
        "#@title <font color = ''><font aize = 3><b>Start_Code                                      \n",
        "from google.colab import drive; drive.mount('/content/drive', force_remount=True)\n",
        "\n",
        "import os\n",
        "os.chdir('/content/drive/MyDrive/class_dlab')\n",
        "if os.getcwd() == '/content/drive/MyDrive/class_dlab':\n",
        "  print('True')\n",
        "else:\n",
        "  print('False')"
      ]
    },
    {
      "cell_type": "code",
      "execution_count": null,
      "metadata": {
        "colab": {
          "base_uri": "https://localhost:8080/"
        },
        "id": "YHjdtfLPbVnu",
        "outputId": "f6080862-2586-49fb-ce96-1e32eff5e487"
      },
      "outputs": [
        {
          "name": "stdout",
          "output_type": "stream",
          "text": [
            "number:6\n",
            "     *\n",
            "    * *\n",
            "   * * *\n",
            "  * * * *\n",
            " * * * * *\n",
            "* * * * * *\n"
          ]
        }
      ],
      "source": [
        "#@title <font color = ''><font aize = 3><b>Triangle_Code\n",
        "#make_triangle_code\n",
        "\n",
        "# 함수로 삼각형을 생성할수있게하기\n",
        "\n",
        "#출력예시:\n",
        "#        *\n",
        "#       * *\n",
        "#      * * *\n",
        "#     * * * *\n",
        "#    * * * * *\n",
        "\n",
        "def make_triangle(dex = '* * * * *'):\n",
        "    list_print = []\n",
        "    dex = dex.strip()\n",
        "    indexs_txt = int(dex.count('*'))\n",
        "    indexs_Blank = int(dex.count(' '))\n",
        "    blank = indexs_Blank / (indexs_txt - 1)\n",
        "    for i in range(indexs_txt):\n",
        "        list_print.append(dex.replace('*'.format(blank), '', i))\n",
        "    for i in range(indexs_txt, 0, -1):\n",
        "        print(list_print[i -1])\n",
        "    return None\n",
        "    \n",
        "make_triangle((int(input(\"number:\"))) * '* ')"
      ]
    },
    {
      "cell_type": "code",
      "execution_count": null,
      "metadata": {
        "id": "cx9Knwgzq8r7"
      },
      "outputs": [],
      "source": [
        "a = 200\n",
        "print(f'{a:f}')\n"
      ]
    },
    {
      "cell_type": "code",
      "execution_count": null,
      "metadata": {
        "colab": {
          "base_uri": "https://localhost:8080/"
        },
        "id": "tnpCP6vZvugj",
        "outputId": "65ba6dc4-bfb6-494b-8fa8-06d14517bd8a"
      },
      "outputs": [
        {
          "name": "stdout",
          "output_type": "stream",
          "text": [
            "index:3\n",
            "[[1, 2, 3], [4, 5, 6], [7, 8, 9], [10, 11, 12], [13, 14, 15], [16, 17, 18], [19, 20, 21], [22, 23, 24], [25, 26, 27], [28, 29, 30]]\n",
            "index:3\n",
            "[[1, 2, 3], [4, 5, 6, 7, 8, 9], [10, 11, 12, 13, 14, 15, 16, 17, 18], [19, 20, 21, 22, 23, 24, 25, 26, 27, 28, 29, 30]]\n"
          ]
        }
      ],
      "source": [
        "#@title <font color = ''><font aize = 3><b> Chunk_Code(숙제)\n",
        "lists = [1,2,3,4,5,6,7,8,9,10,11,12,13,14,15,16,17,18,19,20,21,22,23,24,25,26,27,28,29,30]         \n",
        "                      #코드 설명: sample1은 임시저장 변수 sample_good은 최종 \n",
        "                      #반출변수 사용자 가 입력한수(num)에 따라 리스트를 분배하는 코드\n",
        "def chunk1(idx, num): #Chunk1함수 설명: 원하는 값의 길이로 쪼개주며 남는 수는 따로 리스트로 혼자 리스트에 추가한다.\n",
        "    count = 0         #idx는 리스트 num은 원하는 값을 넣어 호출하면 된다.\n",
        "    sample1 = []\n",
        "    sample_return = []\n",
        "    for i in range(0,len(idx)-1,num):\n",
        "        sample1.clear()\n",
        "        try:\n",
        "            for y in range(num):\n",
        "                sample1.append(idx[count])\n",
        "                count += 1\n",
        "            sample_return.append(list(sample1))\n",
        "        except:\n",
        "              sample_return.append(list(sample1))\n",
        "        #print(sample_good1)\n",
        "    if sample1[-1] == idx[-1]:    \n",
        "        return sample_return\n",
        "    else:\n",
        "        sample1.clear()\n",
        "        sample1.append(idx[-1])\n",
        "        sample_return.append(list(sample1))\n",
        "        return sample_return\n",
        "   # print(sample_good1)\n",
        "#print(chunk2(lists,3))\n",
        "\n",
        "def chunk2(idx, num):   #Chunk2함수 설명: 원하는 값의 배수의 길이로 점점 커지게 나누어 반출한다.\n",
        "    count = 0           #idx는 리스트 num은 num의 배수로 뛰어출력을 시킬 원하는 값을 넣어 호출하면 된다.\n",
        "    sample1 = []\n",
        "    sample_good1 = []\n",
        "    num2 = 1\n",
        "    num3 = num\n",
        "    num4 = 2\n",
        "    for i in range(num,len(idx)-1,num):\n",
        "        sample1.clear()\n",
        "        for y in range(num3):\n",
        "            sample1.append(idx[count])\n",
        "            count += 1\n",
        "            if count == idx[len(idx)-1]:\n",
        "                if sample1[-1] == idx[-1]:\n",
        "                    sample_good1.append(list(sample1))\n",
        "                    return sample_good1\n",
        "                else:\n",
        "                    sample1.clear()\n",
        "                    sample1.append(idx[-1])\n",
        "                    sample_good1.append(list(sample1))\n",
        "                    return sample_good1\n",
        "            if count == num*num2:\n",
        "                num2 = num2+num4\n",
        "                num3 = num3+num\n",
        "                num4 += 1   \n",
        "        #print(sample_good1)\n",
        "        sample_good1.append(list(sample1))\n",
        "\n",
        "print(chunk1(lists,int(input('index:'))))\n",
        "print(chunk2(lists,int(input('index:'))))"
      ]
    },
    {
      "cell_type": "code",
      "execution_count": null,
      "metadata": {
        "colab": {
          "base_uri": "https://localhost:8080/"
        },
        "id": "_U8Rx7WSVbs9",
        "outputId": "6fab1137-6496-45fd-9574-f3cc9272752f"
      },
      "outputs": [
        {
          "name": "stdout",
          "output_type": "stream",
          "text": [
            "\u001b[32m영수증\n",
            " 영유아: ['1세', '2세', '1세']\n",
            " 어린이: ['13세', '6세', '6세', '7세', '12세']\n",
            " 청소년: ['17세', '19세', '14세']\n",
            " 성인: ['53세', '24세', '35세', '24세', '42세', '45세', '43세', '134세']\n",
            "  원가: 19000원\n",
            "  할인율: 625%\n",
            "  총가격: 9000원\u001b[0m\n"
          ]
        }
      ],
      "source": [
        "#@title <font color = ''><font aize = 3><b> Bus_Tiket_Price(list)\n",
        "def ticket_price(lists):\n",
        "    return_list = [[],[],[],[],[],[],[],[]]\n",
        "    price = 1000\n",
        "    total = 0\n",
        "    totals = ('{}원'.format(len(lists)*1000))\n",
        "    for i in range(len(lists)):\n",
        "        if lists[i] < 14:\n",
        "            if lists[i] < 4:\n",
        "                return_list[0].append(price*0) #영유아\n",
        "                return_list[4].append(f'{lists[i]}세')\n",
        "            else:\n",
        "                return_list[1].append(price*0.5) #어린이 \n",
        "                return_list[5].append(f'{lists[i]}세')  \n",
        "        else:\n",
        "            if lists[i] > 20:\n",
        "                return_list[2].append(price) #성인\n",
        "                return_list[6].append(f'{lists[i]}세')\n",
        "            else:\n",
        "                return_list[3].append(price*0.25) #청소년\n",
        "                return_list[7].append(f'{lists[i]}세')\n",
        "    for f in range(3):\n",
        "        for h in range(len(return_list[f])-1):\n",
        "            total += return_list[f][h]\n",
        "    total = ('{0}원'.format(int(total)))\n",
        "    sale = ('{}%'.format((len(return_list[4])*100) + (len(return_list[5])*50) + (len(return_list[7])*25)))\n",
        "        \n",
        "    print('\\033[32m'+f'영수증\\n 영유아: {return_list[4]}\\n 어린이: {return_list[5]}\\n 청소년: {return_list[7]}\\n 성인: {return_list[6]}\\n원가: {totals}\\n  할인율: {sale}\\n  총가격: {total}'+'\\033[0m')\n",
        "\n",
        "listsss = [1,2,3,4,5,6,7,8,9,10,11,12,13,14,15,16,17,18,19,20,21,22,23,24]\n",
        "listss = [13,53,6,1,24,6,2,35,1,24,7,42,45,12,43,17,134,19,14]\n",
        "\n",
        "ticket_price(listss)"
      ]
    },
    {
      "cell_type": "code",
      "execution_count": null,
      "metadata": {
        "colab": {
          "base_uri": "https://localhost:8080/"
        },
        "id": "OT_W82_mzvDh",
        "outputId": "4159517f-cf02-43b2-f312-fb5e8c54d9ee"
      },
      "outputs": [
        {
          "name": "stdout",
          "output_type": "stream",
          "text": [
            "\n",
            "만나이입력(모든나이를 입력하면 공백을 입력해주세요.):0\n",
            "\n",
            "만나이입력(모든나이를 입력하면 공백을 입력해주세요.):10\n",
            "\n",
            "만나이입력(모든나이를 입력하면 공백을 입력해주세요.):16\n",
            "\n",
            "만나이입력(모든나이를 입력하면 공백을 입력해주세요.):20\n",
            "\n",
            "만나이입력(모든나이를 입력하면 공백을 입력해주세요.):25\n",
            "\n",
            "만나이입력(모든나이를 입력하면 공백을 입력해주세요.):25\n",
            "\n",
            "만나이입력(모든나이를 입력하면 공백을 입력해주세요.):28\n",
            "\n",
            "만나이입력(모든나이를 입력하면 공백을 입력해주세요.):\n",
            "{'영유아': [{'나이': '0세', '원가': 1000, '할인율': 100, '총가격': 0}], '어린이': [{'나이': '10세', '원가': 1000, '할인율': 50, '총가격': 500.0}], '청소년': [{'나이': '16세', '원가': 1000, '할인율': 25, '총가격': 750.0}, {'나이': '20세', '원가': 1000, '할인율': 25, '총가격': 750.0}], '성인': [{'나이': '25세', '원가': 1000, '할인율': 0, '총가격': 1000}, {'나이': '25세', '원가': 1000, '할인율': 0, '총가격': 1000}, {'나이': '28세', '원가': 1000, '할인율': 0, '총가격': 1000}]}\n",
            "원가\n",
            "청소년\n",
            "{'원가': 0, '할인율': 0, '총가격': 0}\n",
            "할인율\n",
            "청소년\n",
            "{'원가': 1000, '할인율': 0, '총가격': 0}\n",
            "총가격\n",
            "청소년\n",
            "{'원가': 1000, '할인율': 25, '총가격': 0}\n",
            "원가\n",
            "성인\n",
            "{'원가': 1000, '할인율': 25, '총가격': 750}\n",
            "원가\n",
            "성인\n",
            "{'원가': 2000, '할인율': 25, '총가격': 750}\n",
            "할인율\n",
            "성인\n",
            "{'원가': 3000, '할인율': 25, '총가격': 750}\n",
            "할인율\n",
            "성인\n",
            "{'원가': 3000, '할인율': 25, '총가격': 750}\n",
            "총가격\n",
            "성인\n",
            "{'원가': 3000, '할인율': 25, '총가격': 750}\n",
            "총가격\n",
            "성인\n",
            "{'원가': 3000, '할인율': 25, '총가격': 1750}\n",
            "\u001b[32m\n",
            "영수증\n",
            " 영유아: 1명\n",
            " 어린이: 1명\n",
            " 청소년: 2명\n",
            " 성인: 3명\n",
            "원가: 3000원\n",
            "할인율: 25%\n",
            "총가격: 2750원\n",
            "\n",
            "조회번호/시간: 2023-01-28 01:18:41.490703\u001b[0m\n"
          ]
        }
      ],
      "source": [
        "#@title <font color = ''><font aize = 3><b> Bus_Tiket_Price(숙제)(딕셔너리)\n",
        "# def ticket_price(lists):\n",
        "#     return_list = [[],[],[],[],[],[],[],[]]\n",
        "#     price = 1000\n",
        "#     total = 0\n",
        "#     totals = ('{}원'.format(len(lists)*1000))\n",
        "#     for i in range(len(lists)):\n",
        "#         if lists[i] < 14:\n",
        "#             if lists[i] < 4:\n",
        "#                 return_list[0].append(price*0) #영유아\n",
        "#                 return_list[4].append(f'{lists[i]}세')\n",
        "#             else:\n",
        "#                 return_list[1].append(price*0.5) #어린이 \n",
        "#                 return_list[5].append(f'{lists[i]}세')  \n",
        "#         else:\n",
        "#             if lists[i] > 20:\n",
        "#                 return_list[2].append(price) #성인\n",
        "#                 return_list[6].append(f'{lists[i]}세')\n",
        "#             else:\n",
        "#                 return_list[3].append(price*0.25) #청소년\n",
        "#                 return_list[7].append(f'{lists[i]}세')\n",
        "#     for f in range(3):\n",
        "#         for h in range(len(return_list[f])-1):\n",
        "#             total += return_list[f][h]\n",
        "#     total = ('{0}원'.format(int(total)))\n",
        "#     sale = ('{}%'.format((len(return_list[4])*100) + (len(return_list[5])*50) + (len(return_list[7])*25)))\n",
        "        \n",
        "#     print('\\033[32m'+f'영수증\\n 영유아: {return_list[4]}\\n 어린이: {return_list[5]}\\n 청소년: {return_list[7]}\\n 성인: {return_list[6]}\\n  원가: {totals}\\n  할인율: {sale}\\n  총가격: {total}'+'\\033[0m')\n",
        "\n",
        "# listsss = [1,2,3,4,5,6,7,8,9,10,11,12,13,14,15,16,17,18,19,20,21,22,23,24]\n",
        "# listss = [13,53,6,1,24,6,2,35,1,24,7,42,45,12,43,17,134,19,14]\n",
        "\n",
        "# ticket_price(listss)\n",
        "\n",
        "# from datetime import datetime\n",
        "# save_list_main = []\n",
        "\n",
        "\n",
        "# def ticket_price_tools(lists):\n",
        "#     global save_list_main\n",
        "#     return_list = {'원가':0,'할인율':0,'총가격':0}\n",
        "#     save_list = {'영유아':[],'어린이':[],'청소년':[],'성인':[]}\n",
        "#     price = 1000\n",
        "#     now_time = str(datetime.now())\n",
        "#     for i in range(len(lists)):\n",
        "#         if lists[i] < 14:\n",
        "#             if lists[i] < 4:\n",
        "#                 save_list['영유아'].append({'나이':f'{lists[i]}세','원가':price,'할인율':100,'총가격':price*0}) #영유아\n",
        "#             else:\n",
        "#                 save_list['어린이'].append({'나이':f'{lists[i]}세','원가':price,'할인율':50,'총가격':price*0.5}) #어린이 \n",
        "#         else:\n",
        "#             if lists[i] > 20:\n",
        "#                 save_list['성인'].append({'나이':f'{lists[i]}세','원가':price,'할인율':0,'총가격':price}) #성인\n",
        "#             else:\n",
        "#                 save_list['청소년'].append({'나이':f'{lists[i]}세','원가':price,'할인율':25,'총가격':price*0.75}) # 청소년\n",
        "#     print(save_list)\n",
        "\n",
        "\n",
        "    \n",
        "#     for typess in ['영유아','어린이','청소년','성인']:  #return_list변수 추가코드\n",
        "#         for totals in ['원가','할인율','총가격']:\n",
        "#             #print(return_list[totals])\n",
        "#             for num in range(len(save_list[typess])-1):\n",
        "#                 print(totals)\n",
        "#                 print(typess)\n",
        "#                 print(return_list)\n",
        "#                 return_list[totals] += int(save_list[typess][num][totals])\n",
        "#     for return_list_idx in return_list:  #단위추가코드\n",
        "#         if return_list_idx == '할인율':\n",
        "#             return_list[return_list_idx] = '{}%'.format(int(return_list[return_list_idx]))\n",
        "#         else:\n",
        "#             return_list[return_list_idx] = '{}원'.format(int(return_list[return_list_idx]))\n",
        "#     save_list_main.append({now_time:{'승2객수':['영유아: {}명'.format(len(save_list['영유아'])),'어린이: {}명'.format(len(save_list['어린이'])),'청소년: {}명'.format(len(save_list['청소년'])),'성인: {}명'.format(len(save_list['성인']))],'세부정보':save_list,'가격정보':return_list}})\n",
        "#     print('\\033[32m'+'\\n영수증\\n 영유아: {}\\n 어린이: {}\\n 청소년: {}\\n 성인: {}\\n원가: {}\\n할인율: {}\\n총가격: {}\\n\\n조회번호/시간:'.format('{}명'.format(len(save_list['영유아'])),'{}명'.format(len(save_list['어린이'])),'{}명'.format(len(save_list['청소년'])),'{}명'.format(len(save_list['성인'])),return_list['원가'],return_list['할인율'],return_list['총가격']),now_time+'\\033[0m')\n",
        "#     return None\n",
        "# True_False = True\n",
        "# def main_tools():\n",
        "#     indexs = []\n",
        "#     global True_False\n",
        "#     # if 1 == int(input('1.표예매창\\n2.조회창\\n입력(1,2):')):\n",
        "#     #     while True:\n",
        "#     #         try:\n",
        "#     #             indexs.append(int(input(\"\\n만나이입력(모든나이를 입력하면 공백을 입력해주세요.):\")))\n",
        "#     #          except:\n",
        "#     #             ticket_price_tools(indexs)\n",
        "#     #             return None   \n",
        "#     #     else:\n",
        "#     #         pass    \n",
        "#     # else:\n",
        "#     #     pass\n",
        "    \n",
        "#     while True_False:\n",
        "#         try:\n",
        "#             indexs.append(int(input(\"\\n만나이입력(모든나이를 입력하면 공백을 입력해주세요.):\")))\n",
        "#         except:\n",
        "#             ticket_price_tools(indexs)\n",
        "#             True_False = False\n",
        "#             return None\n",
        "# while True_False:\n",
        "#   main_tools()\n",
        "\n",
        "# listsss = [1,2,3,4,5,6,7,8,9,10,11,12,13,14,15,16,17,18,19,20,21,22,23,24]\n",
        "# listss = [13,53,6,1,24,6,2,35,1,24,7,42,45,12,43,17,134,19,14]\n",
        "\n",
        "# ticket_price(listss)\n",
        "\n",
        "# from datetime import datetime\n",
        "# save_list_main = []\n",
        "\n",
        "\n",
        "# def ticket_price_tools(lists):\n",
        "#     global save_list_main\n",
        "#     return_list = {'원가':0,'할인율':0,'총가격':0}\n",
        "#     len_people = {'영유아':0,'어린이':0,'청소년':0,'성인':0}\n",
        "#     save_list = {'영유아':[],'어린이':[],'청소년':[],'성인':[]}\n",
        "#     price = 1000\n",
        "#     now_time = str(datetime.now())\n",
        "#     for i in range(len(lists)):\n",
        "#         if lists[i] < 14:\n",
        "#             if lists[i] < 4:\n",
        "#                 save_list['영유아'].append({'나이':f'{lists[i]}세','원가':price,'할인율':100,'총가격':price*0}) #영유아\n",
        "#             else:\n",
        "#                 save_list['어린이'].append({'나이':f'{lists[i]}세','원가':price,'할인율':50,'총가격':price*0.5}) #어린이 \n",
        "#         else:\n",
        "#             if lists[i] > 20:\n",
        "#                 save_list['성인'].append({'나이':f'{lists[i]}세','원가':price,'할인율':0,'총가격':price}) #성인\n",
        "#             else:\n",
        "#                 save_list['청소년'].append({'나이':f'{lists[i]}세','원가':price,'할인율':25,'총가격':price*0.75}) # 청소년\n",
        "#     #print(save_list)\n",
        "    \n",
        "#     for typess in ['영유아','어린이','청소년','성인']:  #return_list변수 추가코드\n",
        "#         len_people[typess] = ('{}명'.format(len(save_list[typess])))\n",
        "#         for totals in ['원가','할인율','총가격']:\n",
        "#             #print(return_list[totals])\n",
        "#             for num in range(len(save_list[typess])):\n",
        "#                 # print(typess)\n",
        "#                 # print(totals)\n",
        "#                 # print(save_list[typess][num][totals])\n",
        "#                 return_list[totals] += int(save_list[typess][num][totals])\n",
        "#     # for return_list_idx in return_list:  #단위추가코드\n",
        "#     #     if return_list_idx == '할인율':\n",
        "#     #         return_list[return_list_idx] = '{}%'.format(int(return_list[return_list_idx]))\n",
        "#     #     else:\n",
        "#     #         return_list[return_list_idx] = '{}원'.format(int(return_list[return_list_idx]))\n",
        "#     save_list_main.append({now_time:{'승객수':len_people,'세부정보':save_list,'가격정보':return_list}})\n",
        "#     print('\\033[32m'+'\\n영수증\\n 영유아: {}\\n 어린이: {}\\n 청소년: {}\\n 성인: {}\\n원가: {}\\n할인율: {}%\\n총가격: {}\\n\\n조회번호/시간:'.format(len_people['영유아'],len_people['어린이'],len_people['청소년'],len_people['성인'],return_list['원가'],(((return_list['원가']-return_list['총가격'])/return_list['원가'])*100),return_list['총가격']),now_time+'\\033[0m')\n",
        "#     return None\n",
        "\n",
        "# def main_tools():\n",
        "#     indexs = []\n",
        "#     if 1 == int(input('1.표예매창\\n2.조회창\\n입력(1,2):')):\n",
        "#         if 1 == int(input('\\n1.개인예매(20명미만)\\n2.단채예매(20인이상)\\n입력(1,2):')):\n",
        "#             while True:\n",
        "#                 try:\n",
        "#                     indexs.append(int(input(\"\\n만나이입력(모든나이를 입력하면 공백을 입력해주세요.):\")))\n",
        "#                 except:\n",
        "#                     ticket_price_tools(indexs)\n",
        "#                     return None   \n",
        "#         else:\n",
        "#           while True:\n",
        "#                 try:\n",
        "#                     indexs.append(int(input(\"\\n만나이입력(모든나이를 입력하면 공백을 입력해주세요.):\")))\n",
        "#                 except:\n",
        "#                     ticket_price_tools(indexs,False)\n",
        "#                     return None   \n",
        "#     else:\n",
        "#         try:\n",
        "#           save_list_main[input('조회번호:')]\n",
        "#         except:\n",
        "#           print('Error')\n",
        "\n",
        "# # listsss = [1,2,3,4,5,6,7,8,9,10,11,12,13,14,15,16,17,18,19,20,21,22,23,24]\n",
        "# # listss = [13,53,6,1,24,6,2,35,1,24,7,42,45,12,43,17,134,19,14]\n",
        "\n",
        "# # ticket_price(listss)\n",
        "\n",
        "# while True: #추가기능 만들코드란\n",
        "#     main_tools()\n",
        "#     #pass\n",
        "    \n",
        "    \n",
        "\n",
        "\n",
        "\n",
        "# #@title <font color = ''><font aize = 3><b> Bus_Tiket_Price(dictionary)\n",
        "# # def ticket_price(lists):\n",
        "# #     return_list = [[],[],[],[],[],[],[],[]]\n",
        "# #     price = 1000\n",
        "# #     total = 0\n",
        "# #     totals = ('{}원'.format(len(lists)*1000))\n",
        "# #     for i in range(len(lists)):\n",
        "# #         if lists[i] < 14:\n",
        "# #             if lists[i] < 4:\n",
        "# #                 return_list[0].append(price*0) #영유아\n",
        "# #                 return_list[4].append(f'{lists[i]}세')\n",
        "# #             else:\n",
        "# #                 return_list[1].append(price*0.5) #어린이 \n",
        "# #                 return_list[5].append(f'{lists[i]}세')  \n",
        "# #         else:\n",
        "# #             if lists[i] > 20:\n",
        "# #                 return_list[2].append(price) #성인\n",
        "# #                 return_list[6].append(f'{lists[i]}세')\n",
        "# #             else:\n",
        "# #                 return_list[3].append(price*0.25) #청소년\n",
        "# #                 return_list[7].append(f'{lists[i]}세')\n",
        "# #     for f in range(3):\n",
        "# #         for h in range(len(return_list[f])-1):\n",
        "# #             total += return_list[f][h]\n",
        "# #     total = ('{0}원'.format(int(total)))\n",
        "# #     sale = ('{}%'.format((len(return_list[4])*100) + (len(return_list[5])*50) + (len(return_list[7])*25)))\n",
        "        \n",
        "# #     print('\\033[32m'+f'영수증\\n 영유아: {return_list[4]}\\n 어린이: {return_list[5]}\\n 청소년: {return_list[7]}\\n 성인: {return_list[6]}\\n  원가: {totals}\\n  할인율: {sale}\\n  총가격: {total}'+'\\033[0m')\n",
        "\n",
        "# # listsss = [1,2,3,4,5,6,7,8,9,10,11,12,13,14,15,16,17,18,19,20,21,22,23,24]\n",
        "# # listss = [13,53,6,1,24,6,2,35,1,24,7,42,45,12,43,17,134,19,14]\n",
        "\n",
        "# # ticket_price(listss)\n",
        "\n",
        "# from datetime import datetime\n",
        "# save_list_main = []\n",
        "\n",
        "\n",
        "# def ticket_price_tools(lists):\n",
        "#     global save_list_main\n",
        "#     return_list = {'원가':0,'할인율':0,'총가격':0}\n",
        "#     len_people = {'영유아':0,'어린이':0,'청소년':0,'성인':0}\n",
        "#     save_list = {'영유아':[],'어린이':[],'청소년':[],'성인':[]}\n",
        "#     price = 1000\n",
        "#     now_time = str(datetime.now())\n",
        "#     for i in range(len(lists)):\n",
        "#         if lists[i] < 14:\n",
        "#             if lists[i] < 4:\n",
        "#                 save_list['영유아'].append({'나이':f'{lists[i]}세','원가':price,'할인율':100,'총가격':price*0}) #영유아\n",
        "#             else:\n",
        "#                 save_list['어린이'].append({'나이':f'{lists[i]}세','원가':price,'할인율':50,'총가격':price*0.5}) #어린이 \n",
        "#         else:\n",
        "#             if lists[i] > 20:\n",
        "#                 save_list['성인'].append({'나이':f'{lists[i]}세','원가':price,'할인율':0,'총가격':price}) #성인\n",
        "#             else:\n",
        "#                 save_list['청소년'].append({'나이':f'{lists[i]}세','원가':price,'할인율':25,'총가격':price*0.75}) # 청소년\n",
        "#     print(save_list)\n",
        "\n",
        "\n",
        "    \n",
        "#     for typess in ['영유아','어린이','청소년','성인']:  #return_list변수 추가코드\n",
        "#         len_people[typess] = ('{}명'.format(len(save_list[typess])))\n",
        "#         for totals in ['원가','할인율','총가격']:\n",
        "#             #print(return_list[totals])\n",
        "#             for num in range(len(save_list[typess])-1):\n",
        "#                 print(totals)\n",
        "#                 print(typess)\n",
        "#                 print(return_list)\n",
        "#                 return_list[totals] += int(save_list[typess][num][totals])\n",
        "#     for return_list_idx in return_list:  #단위추가코드\n",
        "#         if return_list_idx == '할인율':\n",
        "#             return_list[return_list_idx] = '{}%'.format(int(return_list[return_list_idx]))\n",
        "#         else:\n",
        "#             return_list[return_list_idx] = '{}원'.format(int(return_list[return_list_idx]))\n",
        "#     save_list_main.append({now_time:{'승객수':len_people,'세부정보':save_list,'가격정보':return_list}})\n",
        "#     print('\\033[32m'+'\\n영수증\\n 영유아: {}\\n 어린이: {}\\n 청소년: {}\\n 성인: {}\\n원가: {}\\n할인율: {}\\n총가격: {}\\n\\n조회번호/시간:'.format(len_people['영유아'],len_people['어린이'],len_people['청소년'],len_people['성인'],return_list['원가'],return_list['할인율'],return_list['총가격']),now_time+'\\033[0m')\n",
        "#     return None\n",
        "\n",
        "# def main_tools():\n",
        "#     indexs = []\n",
        "#     if 1 == int(input('1.표예매창\\n2.조회창\\n입력(1,2):')):\n",
        "#         if 1 == int(input('\\n1.개인예매(20명미만)\\n2.단채예매(20인이상)\\n입력(1,2):')):\n",
        "#             while True:\n",
        "#                 try:\n",
        "#                     indexs.append(int(input(\"\\n만나이입력(모든나이를 입력하면 공백을 입력해주세요.):\")))\n",
        "#                 except:\n",
        "#                     ticket_price_tools(indexs)\n",
        "#                     return None   \n",
        "#         else:\n",
        "#             pass    \n",
        "#     else:\n",
        "#         pass\n",
        "\n",
        "# # listsss = [1,2,3,4,5,6,7,8,9,10,11,12,13,14,15,16,17,18,19,20,21,22,23,24]\n",
        "# # listss = [13,53,6,1,24,6,2,35,1,24,7,42,45,12,43,17,134,19,14]\n",
        "\n",
        "# # ticket_price(listss)\n",
        "\n",
        "# while True: #추가기능 만들코드란\n",
        "#     main_tools()\n",
        "#     #pass\n",
        "\n",
        "\n",
        "\n",
        "# from datetime import datetime\n",
        "# save_list_main = []\n",
        "\n",
        "\n",
        "# def ticket_price_tools(lists,True_False=False):\n",
        "#     global save_list_main\n",
        "#     return_list = {'원가':0,'할인율':0,'총가격':0}\n",
        "#     len_people = {'영유아':0,'어린이':0,'청소년':0,'성인':0}\n",
        "#     save_list = {'영유아':[],'어린이':[],'청소년':[],'성인':[]}\n",
        "#     price = 1000\n",
        "#     now_time = str(datetime.now())\n",
        "#     if True_False:\n",
        "#         for i in range(len(lists)):\n",
        "#           if lists[i] < 14:\n",
        "#               if lists[i] < 4:\n",
        "#                   save_list['영유아'].append({'나이':f'{lists[i]}세','원가':price,'할인율':100,'총가격':price*0}) #영유아\n",
        "#               else:\n",
        "#                   save_list['어린이'].append({'나이':f'{lists[i]}세','원가':price,'할인율':70,'총가격':price*0.7}) #어린이 \n",
        "#           else:\n",
        "#               if lists[i] > 20:\n",
        "#                   save_list['성인'].append({'나이':f'{lists[i]}세','원가':price,'할인율':20,'총가격':price*0.8}) #성인\n",
        "#               else:\n",
        "#                   save_list['청소년'].append({'나이':f'{lists[i]}세','원가':price,'할인율':45,'총가격':price*0.55}) # 청소년\n",
        "#     else:\n",
        "#       for i in range(len(lists)):\n",
        "#           if lists[i] < 14:\n",
        "#               if lists[i] < 4:\n",
        "#                   save_list['영유아'].append({'나이':f'{lists[i]}세','원가':price,'할인율':100,'총가격':price*0}) #영유아\n",
        "#               else:\n",
        "#                   save_list['어린이'].append({'나이':f'{lists[i]}세','원가':price,'할인율':50,'총가격':price*0.5}) #어린이 \n",
        "#           else:\n",
        "#               if lists[i] > 20:\n",
        "#                   save_list['성인'].append({'나이':f'{lists[i]}세','원가':price,'할인율':0,'총가격':price}) #성인\n",
        "#               else:\n",
        "#                   save_list['청소년'].append({'나이':f'{lists[i]}세','원가':price,'할인율':25,'총가격':price*0.75}) # 청소년\n",
        "#  #print(save_list)\n",
        "    \n",
        "#     for typess in ['영유아','어린이','청소년','성인']:  #return_list변수 추가코드\n",
        "#         len_people[typess] = ('{}명'.format(len(save_list[typess])))\n",
        "#         for totals in ['원가','할인율','총가격']:\n",
        "#             #print(return_list[totals])\n",
        "#             for num in range(len(save_list[typess])):\n",
        "#                 # print(typess)\n",
        "#                 # print(totals)\n",
        "#                 # print(save_list[typess][num][totals])\n",
        "#                 return_list[totals] += int(save_list[typess][num][totals])\n",
        "#     # for return_list_idx in return_list:  #단위추가코드\n",
        "#     #     if return_list_idx == '할인율':\n",
        "#     #         return_list[return_list_idx] = '{}%'.format(int(return_list[return_list_idx]))\n",
        "#     #     else:\n",
        "#     #         return_list[return_list_idx] = '{}원'.format(int(return_list[return_list_idx]))\n",
        "#     save_list_main.append({now_time:{'승객수':len_people,'세부정보':save_list,'가격정보':return_list}})\n",
        "#     print('\\033[32m'+'\\n영수증\\n 영유아: {}\\n 어린이: {}\\n 청소년: {}\\n 성인: {}\\n원가: {}\\n할인율: {}%\\n총가격: {}\\n단체할인적용여부: {}\\n\\n조회번호/시간:{}'.format(len_people['영유아'],len_people['어린이'],len_people['청소년'],len_people['성인'],return_list['원가'],((return_list['원가']-return_list['총가격'])/return_list['원가'])*100,return_list['총가격'],True_False,now_time+'\\033[0m'))\n",
        "#     print(save_list)\n",
        "#     print(return_list)\n",
        "#     print(save_list_main)\n",
        "#     return None\n",
        "\n",
        "\n",
        "# def main_tools():\n",
        "#     indexs = []\n",
        "#     if 1 == int(input('\\033[93m'+'1.표예매창\\n2.조회창\\n입력(1,2):'+'\\033[0m')):\n",
        "#         if 1 == int(input('\\033[93m'+'\\n1.개인예매(20명미만)\\n2.단채예매(20인이상)\\n입력(1,2):'+'\\033[0m')):\n",
        "#             while True:\n",
        "#                 try:\n",
        "#                     indexs.append(int(input('\\033[93m'+\"\\n만나이입력(모든나이를 입력하면 공백을 입력해주세요.):\"+'\\033[0m')))\n",
        "#                 except:\n",
        "#                     ticket_price_tools(indexs)\n",
        "#                     return None   \n",
        "#         else:\n",
        "#           while True:\n",
        "#                 try:\n",
        "#                     indexs.append(int(input('\\033[93m'+\"\\n만나이입력(모든나이를 입력하면 공백을 입력해주세요.):\"+'\\033[0m')))\n",
        "#                 except:\n",
        "#                     ticket_price_tools(indexs,True)\n",
        "#                     return None   \n",
        "#     else:\n",
        "#         try:\n",
        "#           for nume in range(len(save_list_main)):\n",
        "#             print(save_list_main[nume][str(input('조회번호:'))])\n",
        "#         except:\n",
        "#           print('Error')\n",
        "\n",
        "# # listsss = [1,2,3,4,5,6,7,8,9,10,11,12,13,14,15,16,17,18,19,20,21,22,23,24]\n",
        "# # listss = [13,53,6,1,24,6,2,35,1,24,7,42,45,12,43,17,134,19,14]\n",
        "\n",
        "# # ticket_price(listss)\n",
        "\n",
        "# while True: #추가기능 만들코드란\n",
        "#     main_tools()\n",
        "#     #pass\n",
        "    \n",
        "    \n",
        "\n",
        "\n",
        "\n",
        "from datetime import datetime\n",
        "save_list_main = []\n",
        "def ticket_price_tools(lists):\n",
        "    global save_list_main\n",
        "    return_list = {'원가':0,'할인율':0,'총가격':0}\n",
        "    save_list = {'영유아':,'어린이':[],'청소년':[],'성인':[]}\n",
        "    price = 1000\n",
        "    now_time = str(datetime.now())\n",
        "    for i in range(len(lists)):\n",
        "        if lists[i] < 14:\n",
        "            if lists[i] < 4:\n",
        "                save_list['영유아'].append({'나이':f'{lists[i]}세','원가':price,'할인율':100,'총가격':price*0}) #영유아\n",
        "            else:\n",
        "                save_list['어린이'].append({'나이':f'{lists[i]}세','원가':price,'할인율':50,'총가격':price*0.5}) #어린이 \n",
        "        else:\n",
        "            if lists[i] > 20:\n",
        "                save_list['성인'].append({'나이':f'{lists[i]}세','원가':price,'할인율':0,'총가격':price}) #성인\n",
        "            else:\n",
        "                save_list['청소년'].append({'나이':f'{lists[i]}세','원가':price,'할인율':25,'총가격':price*0.75}) # 청소년\n",
        "    for typess in ['영유아','어린이','청소년','성인']:  #return_list변수 추가코드\n",
        "        for totals in ['원가','할인율','총가격']:\n",
        "            #print(return_list[totals])\n",
        "            for num in range(len(save_list[typess])-1):\n",
        "                print(totals)\n",
        "                print(typess)\n",
        "                print(return_list)\n",
        "                return_list[totals] += int(save_list[typess][num][totals])\n",
        "    for return_list_idx in return_list:  #단위추가코드\n",
        "        if return_list_idx == '할인율':\n",
        "            return_list[return_list_idx] = '{}%'.format(int(return_list[return_list_idx]))\n",
        "        else:\n",
        "            return_list[return_list_idx] = '{}원'.format(int(return_list[return_list_idx]))\n",
        "    save_list_main.append({now_time:{'승객수':['영유아: {}명'.format(len(save_list['영유아'])),'어린이: {}명'.format(len(save_list['어린이'])),'청소년: {}명'.format(len(save_list['청소년'])),'성인: {}명'.format(len(save_list['성인']))],'세부정보':save_list,'가격정보':return_list}})\n",
        "    print('\\033[32m'+'\\n영수증\\n 영유아: {}\\n 어린이: {}\\n 청소년: {}\\n 성인: {}\\n원가: {}\\n할인율: {}\\n총가격: {}\\n\\n조회번호/시간:'.format('{}명'.format(len(save_list['영유아'])),'{}명'.format(len(save_list['어린이'])),'{}명'.format(len(save_list['청소년'])),'{}명'.format(len(save_list['성인'])),return_list['원가'],return_list['할인율'],return_list['총가격']),now_time+'\\033[0m')\n",
        "    return None\n",
        "True_False = True\n",
        "def main_tools():\n",
        "    indexs = []\n",
        "    global True_False\n",
        "    while True_False:\n",
        "        try:\n",
        "            indexs.append(int(input(\"\\n만나이입력(모든나이를 입력하면 공백을 입력해주세요.):\")))\n",
        "        except:\n",
        "            ticket_price_tools(indexs)\n",
        "            True_False = False\n",
        "            return None\n",
        "while True_False:\n",
        "  main_tools()"
      ]
    },
    {
      "cell_type": "code",
      "execution_count": null,
      "metadata": {
        "colab": {
          "base_uri": "https://localhost:8080/"
        },
        "id": "FwiO60w-x9Oq",
        "outputId": "1a10f00f-212c-4dc7-9f1a-9fc57359ea8e"
      },
      "outputs": [
        {
          "name": "stdout",
          "output_type": "stream",
          "text": [
            "<built-in method keys of dict object at 0x7f1efbc64f00>\n"
          ]
        }
      ],
      "source": [
        "ss = {'영유아':{'원가':0,'할인율':0,'총가격':0},'어린이':{'원가':0,'할인율':0,'총가격':0},'청소년':{'원가':0,'할인율':0,'총가격':0},'성인':{'원가':0,'할인율':0,'총가격':0}}\n"
      ]
    },
    {
      "cell_type": "code",
      "execution_count": null,
      "metadata": {
        "colab": {
          "base_uri": "https://localhost:8080/"
        },
        "id": "VGl4RmwKtnht",
        "outputId": "0517f003-2e25-4960-fe0f-1bf6b47458c1"
      },
      "outputs": [
        {
          "name": "stdout",
          "output_type": "stream",
          "text": [
            "\n",
            "만나이입력(모든나이를 입력하면 공백을 입력해주세요.):1\n",
            "\n",
            "만나이입력(모든나이를 입력하면 공백을 입력해주세요.):5\n",
            "\n",
            "만나이입력(모든나이를 입력하면 공백을 입력해주세요.):9\n",
            "\n",
            "만나이입력(모든나이를 입력하면 공백을 입력해주세요.):16\n",
            "\n",
            "만나이입력(모든나이를 입력하면 공백을 입력해주세요.):28\n",
            "\n",
            "만나이입력(모든나이를 입력하면 공백을 입력해주세요.):\n",
            "{'영유아': (), '어린이': (), '청소년': (), '성인': 2}\n",
            "{'영유아': {'원가': 1000.0, '할인율': '100', '총가격': '0'}, '어린이': {'원가': 2000.0, '할인율': '100', '총가격': '1000.0'}, '청소년': {'원가': 1000.0, '할인율': '25', '총가격': '750.0'}, '성인': {'원가': 1000.0, '할인율': '0', '총가격': '1000'}}\n"
          ]
        }
      ],
      "source": [
        "#@title <font color = ''><font aize = 3><b>ticket_system(딕셔너리형태2)\n",
        "\n",
        "#형태: 영유아,어린이.청소년,성인 각각 가격을 저장함 \n",
        "from datetime import datetime\n",
        "#import pymysql\n",
        "#con = pymysql.connect(host='', user='root', password='', db='mysql', charset='utf8')\n",
        "save_list_main = []\n",
        "\n",
        "\n",
        "def ticket_price_tools(lists):\n",
        "    global save_list_main\n",
        "    return_list = {'원가':0,'할인율':0,'총가격':0}\n",
        "    save_list = {'영유아':(),'어린이':(),'청소년':(),'성인':(2)}\n",
        "    for_save_list1 = 0\n",
        "    for_save_list2 = 0\n",
        "    for_save_list3 = 0\n",
        "    for_save_list4 = 0\n",
        "    price = 1000\n",
        "    now_time = str(datetime.now())\n",
        "    for i in range(len(lists)):\n",
        "        if lists[i] < 14:\n",
        "            if lists[i] < 4:\n",
        "                for_save_list1 += 1\n",
        "            else:\n",
        "                for_save_list2 += 1\n",
        "        else:\n",
        "            if lists[i] > 20:\n",
        "                for_save_list3 += 1\n",
        "            else:\n",
        "                for_save_list4 += 1\n",
        "    totalss = {'영유아':for_save_list1,'어린이':for_save_list2,'청소년':for_save_list3,'성인':for_save_list4}\n",
        "    print(save_list)\n",
        "    for typess in ['영유아','어린이','청소년','성인']:  #return_list변수 추가코드\n",
        "        if typess == '영유아':\n",
        "          information = {'할인율':100 , '총가격':0}\n",
        "        elif typess == '어린이':\n",
        "          information = {'할인율':50, '총가격':price*0.5}\n",
        "        elif typess == '청소년':\n",
        "          information = {'할인율':25, '총가격':price*0.75}\n",
        "        else:\n",
        "          information = {'할인율':0, '총가격':price}\n",
        "        for totals in ['원가','할인율','총가격']:\n",
        "            if totals == '원가':\n",
        "              a1 = (str(1000*totalss[typess]))\n",
        "            elif totals == '할인율':\n",
        "              a2 = (str(information['할인율']*totalss[typess]))\n",
        "            else:\n",
        "              a3 = (str(information['총가격']*totalss[typess]))\n",
        "            a1 = float(a1)\n",
        "        save_list[typess] = {'원가':(a1),'할인율':(a2),'총가격':(a3)}\n",
        "    save_list_main.append({now_time:save_list})\n",
        "    #print('\\033[32m'+'\\n영수증\\n 영유아: {}\\n 어린이: {}\\n 청소년: {}\\n 성인: {}\\n원가: {}\\n할인율: {}\\n총가격: {}\\n\\n조회번호/시간:'.format('{}명'.format(len(save_list['영유아'])),'{}명'.format(len(save_list['어린이'])),'{}명'.format(len(save_list['청소년'])),'{}명'.format(len(save_list['성인'])),return_list['원가'],return_list['할인율'],return_list['총가격']),now_time+'\\033[0m')\n",
        "    print(save_list)\n",
        "    return None\n",
        "True_False = True\n",
        "def main_tools():\n",
        "    indexs = []\n",
        "    global True_False\n",
        "    while True_False:\n",
        "        try:\n",
        "            indexs.append(int(input(\"\\n만나이입력(모든나이를 입력하면 공백을 입력해주세요.):\")))\n",
        "        except:\n",
        "            ticket_price_tools(indexs)\n",
        "            True_False = False\n",
        "            return None\n",
        "while True_False:\n",
        "  main_tools()"
      ]
    },
    {
      "cell_type": "code",
      "execution_count": null,
      "metadata": {
        "colab": {
          "base_uri": "https://localhost:8080/",
          "height": 606
        },
        "id": "D3qUW-V_rRR1",
        "outputId": "15e3a73c-7f7c-4558-c1fe-5684a1e5094f"
      },
      "outputs": [
        {
          "name": "stdout",
          "output_type": "stream",
          "text": [
            "\n",
            "만나이입력(모든나이를 입력하면 공백을 입력해주세요.):1\n",
            "\n",
            "만나이입력(모든나이를 입력하면 공백을 입력해주세요.):7\n",
            "\n",
            "만나이입력(모든나이를 입력하면 공백을 입력해주세요.):16\n",
            "\n",
            "만나이입력(모든나이를 입력하면 공백을 입력해주세요.):29\n",
            "\n",
            "만나이입력(모든나이를 입력하면 공백을 입력해주세요.):\n"
          ]
        },
        {
          "ename": "NameError",
          "evalue": "ignored",
          "output_type": "error",
          "traceback": [
            "\u001b[0;31m---------------------------------------------------------------------------\u001b[0m",
            "\u001b[0;31mValueError\u001b[0m                                Traceback (most recent call last)",
            "\u001b[0;32m<ipython-input-1-bf9289d9ca0f>\u001b[0m in \u001b[0;36mmain_tools\u001b[0;34m()\u001b[0m\n\u001b[1;32m     50\u001b[0m         \u001b[0;32mtry\u001b[0m\u001b[0;34m:\u001b[0m\u001b[0;34m\u001b[0m\u001b[0;34m\u001b[0m\u001b[0m\n\u001b[0;32m---> 51\u001b[0;31m             \u001b[0mindexs\u001b[0m\u001b[0;34m.\u001b[0m\u001b[0mappend\u001b[0m\u001b[0;34m(\u001b[0m\u001b[0mint\u001b[0m\u001b[0;34m(\u001b[0m\u001b[0minput\u001b[0m\u001b[0;34m(\u001b[0m\u001b[0;34m\"\\n만나이입력(모든나이를 입력하면 공백을 입력해주세요.):\"\u001b[0m\u001b[0;34m)\u001b[0m\u001b[0;34m)\u001b[0m\u001b[0;34m)\u001b[0m\u001b[0;34m\u001b[0m\u001b[0;34m\u001b[0m\u001b[0m\n\u001b[0m\u001b[1;32m     52\u001b[0m         \u001b[0;32mexcept\u001b[0m\u001b[0;34m:\u001b[0m\u001b[0;34m\u001b[0m\u001b[0;34m\u001b[0m\u001b[0m\n",
            "\u001b[0;31mValueError\u001b[0m: invalid literal for int() with base 10: ''",
            "\nDuring handling of the above exception, another exception occurred:\n",
            "\u001b[0;31mNameError\u001b[0m                                 Traceback (most recent call last)",
            "\u001b[0;32m<ipython-input-1-bf9289d9ca0f>\u001b[0m in \u001b[0;36m<module>\u001b[0;34m\u001b[0m\n\u001b[1;32m     55\u001b[0m             \u001b[0;32mreturn\u001b[0m \u001b[0;32mNone\u001b[0m\u001b[0;34m\u001b[0m\u001b[0;34m\u001b[0m\u001b[0m\n\u001b[1;32m     56\u001b[0m \u001b[0;32mwhile\u001b[0m \u001b[0mTrue_False\u001b[0m\u001b[0;34m:\u001b[0m\u001b[0;34m\u001b[0m\u001b[0;34m\u001b[0m\u001b[0m\n\u001b[0;32m---> 57\u001b[0;31m   \u001b[0mmain_tools\u001b[0m\u001b[0;34m(\u001b[0m\u001b[0;34m)\u001b[0m\u001b[0;34m\u001b[0m\u001b[0;34m\u001b[0m\u001b[0m\n\u001b[0m",
            "\u001b[0;32m<ipython-input-1-bf9289d9ca0f>\u001b[0m in \u001b[0;36mmain_tools\u001b[0;34m()\u001b[0m\n\u001b[1;32m     51\u001b[0m             \u001b[0mindexs\u001b[0m\u001b[0;34m.\u001b[0m\u001b[0mappend\u001b[0m\u001b[0;34m(\u001b[0m\u001b[0mint\u001b[0m\u001b[0;34m(\u001b[0m\u001b[0minput\u001b[0m\u001b[0;34m(\u001b[0m\u001b[0;34m\"\\n만나이입력(모든나이를 입력하면 공백을 입력해주세요.):\"\u001b[0m\u001b[0;34m)\u001b[0m\u001b[0;34m)\u001b[0m\u001b[0;34m)\u001b[0m\u001b[0;34m\u001b[0m\u001b[0;34m\u001b[0m\u001b[0m\n\u001b[1;32m     52\u001b[0m         \u001b[0;32mexcept\u001b[0m\u001b[0;34m:\u001b[0m\u001b[0;34m\u001b[0m\u001b[0;34m\u001b[0m\u001b[0m\n\u001b[0;32m---> 53\u001b[0;31m             \u001b[0mticket_price_tools\u001b[0m\u001b[0;34m(\u001b[0m\u001b[0mindexs\u001b[0m\u001b[0;34m)\u001b[0m\u001b[0;34m\u001b[0m\u001b[0;34m\u001b[0m\u001b[0m\n\u001b[0m\u001b[1;32m     54\u001b[0m             \u001b[0mTrue_False\u001b[0m \u001b[0;34m=\u001b[0m \u001b[0;32mFalse\u001b[0m\u001b[0;34m\u001b[0m\u001b[0;34m\u001b[0m\u001b[0m\n\u001b[1;32m     55\u001b[0m             \u001b[0;32mreturn\u001b[0m \u001b[0;32mNone\u001b[0m\u001b[0;34m\u001b[0m\u001b[0;34m\u001b[0m\u001b[0m\n",
            "\u001b[0;32m<ipython-input-1-bf9289d9ca0f>\u001b[0m in \u001b[0;36mticket_price_tools\u001b[0;34m(lists)\u001b[0m\n\u001b[1;32m     34\u001b[0m         \u001b[0ma2\u001b[0m \u001b[0;34m+=\u001b[0m \u001b[0msave_list\u001b[0m\u001b[0;34m[\u001b[0m\u001b[0mtype6\u001b[0m\u001b[0;34m]\u001b[0m\u001b[0;34m[\u001b[0m\u001b[0mtype7\u001b[0m\u001b[0;34m]\u001b[0m\u001b[0;34m[\u001b[0m\u001b[0;34m'할인율'\u001b[0m\u001b[0;34m]\u001b[0m\u001b[0;34m\u001b[0m\u001b[0;34m\u001b[0m\u001b[0m\n\u001b[1;32m     35\u001b[0m         \u001b[0ma3\u001b[0m \u001b[0;34m+=\u001b[0m \u001b[0msave_list\u001b[0m\u001b[0;34m[\u001b[0m\u001b[0mtype6\u001b[0m\u001b[0;34m]\u001b[0m\u001b[0;34m[\u001b[0m\u001b[0mtype7\u001b[0m\u001b[0;34m]\u001b[0m\u001b[0;34m[\u001b[0m\u001b[0;34m'총가격'\u001b[0m\u001b[0;34m]\u001b[0m\u001b[0;34m\u001b[0m\u001b[0;34m\u001b[0m\u001b[0m\n\u001b[0;32m---> 36\u001b[0;31m       \u001b[0msave\u001b[0m\u001b[0;34m[\u001b[0m\u001b[0mtype6\u001b[0m\u001b[0;34m]\u001b[0m\u001b[0;34m.\u001b[0m\u001b[0mclear\u001b[0m\u001b[0;34m(\u001b[0m\u001b[0;34m)\u001b[0m\u001b[0;34m\u001b[0m\u001b[0;34m\u001b[0m\u001b[0m\n\u001b[0m\u001b[1;32m     37\u001b[0m       \u001b[0msave_list\u001b[0m\u001b[0;34m[\u001b[0m\u001b[0mtype6\u001b[0m\u001b[0;34m]\u001b[0m\u001b[0;34m.\u001b[0m\u001b[0mappend\u001b[0m\u001b[0;34m(\u001b[0m\u001b[0;34m{\u001b[0m\u001b[0;34m'원가'\u001b[0m\u001b[0;34m:\u001b[0m\u001b[0ma1\u001b[0m\u001b[0;34m,\u001b[0m\u001b[0;34m'할인율'\u001b[0m\u001b[0;34m:\u001b[0m\u001b[0ma2\u001b[0m\u001b[0;34m,\u001b[0m\u001b[0;34m'총가격'\u001b[0m\u001b[0;34m:\u001b[0m\u001b[0ma3\u001b[0m\u001b[0;34m}\u001b[0m\u001b[0;34m)\u001b[0m\u001b[0;34m\u001b[0m\u001b[0;34m\u001b[0m\u001b[0m\n\u001b[1;32m     38\u001b[0m \u001b[0;34m\u001b[0m\u001b[0m\n",
            "\u001b[0;31mNameError\u001b[0m: name 'save' is not defined"
          ]
        }
      ],
      "source": [
        "# from datetime import datetime\n",
        "# #import pymysql\n",
        "# #con = pymysql.connect(host='', user='root', password='', db='mysql', charset='utf8')\n",
        "# save_list_main = []\n",
        "\n",
        "\n",
        "# def ticket_price_tools(lists):\n",
        "#     global save_list_main\n",
        "#     return_list = {'원가':0,'할인율':0,'총가격':0}\n",
        "#     save_list = {'영유아':[],'어린이':[],'청소년':[],'성인':[]}\n",
        "#     for_save_list1 = 0\n",
        "#     for_save_list2 = 0\n",
        "#     for_save_list3 = 0\n",
        "#     for_save_list4 = 0\n",
        "#     price = 1000\n",
        "#     now_time = str(datetime.now())\n",
        "#     for i in range(len(lists)):\n",
        "#         if lists[i] < 14:\n",
        "#             if lists[i] < 4:\n",
        "#                 save_list['영유아'].append({'원가':1000,'할인율':100,'총가격':0})\n",
        "#             else:\n",
        "#                 save_list['어린이'].append({'원가':1000,'할인율':50,'총가격':500})\n",
        "#         else:\n",
        "#             if lists[i] > 20:\n",
        "#                 save_list['성인'].append({'원가':1000,'할인율':0,'총가격':1000})\n",
        "#             else:\n",
        "#                 save_list['청소년'].append({'원가':1000,'할인율':25,'총가격':750})\n",
        "#     for type6 in ['영유아','어린이','청소년','성인']:\n",
        "#       for type7 in range(len(save_list[type6])-1):\n",
        "#         a1 = 0\n",
        "#         a2 = 0\n",
        "#         a3 = 0\n",
        "#         a1 += save_list[type6][type7]['원가']\n",
        "#         a2 += save_list[type6][type7]['할인율']\n",
        "#         a3 += save_list[type6][type7]['총가격']\n",
        "#       save[type6].clear()\n",
        "#       save_list[type6].append({'원가':a1,'할인율':a2,'총가격':a3})\n",
        "\n",
        "\n",
        "    \n",
        "#     save_list_main.append({now_time:save_list})\n",
        "#     #print('\\033[32m'+'\\n영수증\\n 영유아: {}\\n 어린이: {}\\n 청소년: {}\\n 성인: {}\\n원가: {}\\n할인율: {}\\n총가격: {}\\n\\n조회번호/시간:'.format('{}명'.format(len(save_list['영유아'])),'{}명'.format(len(save_list['어린이'])),'{}명'.format(len(save_list['청소년'])),'{}명'.format(len(save_list['성인'])),return_list['원가'],return_list['할인율'],return_list['총가격']),now_time+'\\033[0m')\n",
        "#     print(save_list)\n",
        "#     return None\n",
        "# True_False = True\n",
        "# def main_tools():\n",
        "#     indexs = []\n",
        "#     global True_False\n",
        "#     while True_False:\n",
        "#         try:\n",
        "#             indexs.append(int(input(\"\\n만나이입력(모든나이를 입력하면 공백을 입력해주세요.):\")))\n",
        "#         except:\n",
        "#             ticket_price_tools(indexs)\n",
        "#             True_False = False\n",
        "#             return None\n",
        "# while True_False:\n",
        "#   main_tools()"
      ]
    },
    {
      "cell_type": "code",
      "execution_count": null,
      "metadata": {
        "colab": {
          "base_uri": "https://localhost:8080/",
          "height": 131
        },
        "id": "1vwG2Fojjl7m",
        "outputId": "0158ef5b-86e9-43a9-ef55-6589da0548a0"
      },
      "outputs": [
        {
          "ename": "SyntaxError",
          "evalue": "ignored",
          "output_type": "error",
          "traceback": [
            "\u001b[0;36m  File \u001b[0;32m\"<ipython-input-3-638b590f3d71>\"\u001b[0;36m, line \u001b[0;32m2\u001b[0m\n\u001b[0;31m    help list()\u001b[0m\n\u001b[0m         ^\u001b[0m\n\u001b[0;31mSyntaxError\u001b[0m\u001b[0;31m:\u001b[0m invalid syntax\n"
          ]
        }
      ],
      "source": [
        "#@title <font color = ''><font aize = 3><b>Test_Code\n",
        "\n"
      ]
    },
    {
      "cell_type": "code",
      "execution_count": null,
      "metadata": {
        "colab": {
          "base_uri": "https://localhost:8080/"
        },
        "id": "wziQvAMrdz0L",
        "outputId": "3c46a3ca-99ff-4379-bca3-dd82925e9efb"
      },
      "outputs": [
        {
          "name": "stdout",
          "output_type": "stream",
          "text": [
            "ec이 질문했습니다.\n"
          ]
        }
      ],
      "source": [
        "#@title <font color = ''><font aize = 3><b>Study_Code\n",
        "\n",
        "\n",
        "class student:\n",
        "  def __init__(self,name,number):\n",
        "      self.name = name\n",
        "      self.num = number\n",
        "\n",
        "  def q(self):\n",
        "    print(f'{self.name}이 질문했습니다.')\n",
        "\n",
        "ec = student('ec','6')\n",
        "ec.q()"
      ]
    },
    {
      "cell_type": "code",
      "execution_count": null,
      "metadata": {
        "colab": {
          "base_uri": "https://localhost:8080/"
        },
        "id": "IYseZPLh3baP",
        "outputId": "a58266f0-5912-419d-9a1e-e96c7b08a7a9"
      },
      "outputs": [
        {
          "name": "stdout",
          "output_type": "stream",
          "text": [
            "3\n",
            "1\n"
          ]
        }
      ],
      "source": [
        "def plus(num1, num2):\n",
        "  return num1+num2\n",
        "\n",
        "def minus (num1, num2):\n",
        "  return num1-num2\n",
        "\n",
        "def mul(num1, num2):\n",
        "\n",
        "print(plus(1, 2))\n",
        "print(minus(2, 1))"
      ]
    },
    {
      "cell_type": "code",
      "execution_count": null,
      "metadata": {
        "id": "8PRzLIGl1Syd"
      },
      "outputs": [],
      "source": [
        "#@title <font color = ''><font aize = 3><b>Study_"
      ]
    },
    {
      "cell_type": "code",
      "execution_count": null,
      "metadata": {
        "colab": {
          "base_uri": "https://localhost:8080/"
        },
        "id": "1rDdDeiO6gxt",
        "outputId": "ca267e55-b32d-4773-a770-feaf80816aa5"
      },
      "outputs": [
        {
          "name": "stdout",
          "output_type": "stream",
          "text": [
            "name= EUNCHAN\n",
            "age= 13\n",
            "gender= MALE\n",
            "grade= 6\n",
            "class_num= 2\n",
            "name= EUNCHAN\n",
            "age= 14\n",
            "gender= MALE\n",
            "grade= 7\n",
            "class_num= 2\n",
            "EUNCHAN가 2시간동안 공부를 합니다.\n",
            "EUNCHAN가 4시간동안 놀고있습니다.\n"
          ]
        }
      ],
      "source": [
        "class student:\n",
        "  name = \"\"\n",
        "  age = 0\n",
        "  gender = \"\"\n",
        "  class_num = 0\n",
        "\n",
        "  def __init__(self, name1, age1, gender1, class_num1):\n",
        "    self.name = name1\n",
        "    self.age = age1\n",
        "    self.gender = gender1\n",
        "    self.grade = self.age - 7\n",
        "    self.class_num = class_num1\n",
        "\n",
        "  def print_profile(self):\n",
        "    print (\"name=\", self.name)\n",
        "    print (\"age=\", self.age)\n",
        "    print (\"gender=\", self.gender)\n",
        "    print (\"grade=\", self.grade)\n",
        "    print (\"class_num=\", self.class_num)\n",
        "\n",
        "  def changeAge(self, age1):\n",
        "    self.age = age1\n",
        "    self.grade = self.age - 7  \n",
        "\n",
        "  def study(self, hour1):\n",
        "    print (f\"{self.name}가 {hour1}시간동안 공부를 합니다.\")\n",
        "\n",
        "  def ply(self, hour2):\n",
        "   print (f\"{self.name}가 {hour2}시간동안 놀고있습니다.\")  \n",
        "\n",
        "\n",
        "\n",
        "\n",
        "eunchan = student(\"EUNCHAN\", 13, \"MALE\", 2)\n",
        "eunchan.print_profile()\n",
        "eunchan.changeAge(14)\n",
        "eunchan.print_profile()\n",
        "eunchan.study(2)\n",
        "eunchan.ply(4)\n",
        "\n",
        "#1. 코드를 재사용할 수 있습니다. \n",
        "#2. 함수는 하는 행동만 정의, 클래스는 속성과 행동을 함께 정의한다\n",
        "#3. 함수는 한번 지정된 값의 변화가 어려운 반면 클래스는 만들어진 오프젝트를 통해서 얼마든지 수정가능\n",
        "\n"
      ]
    },
    {
      "cell_type": "code",
      "execution_count": null,
      "metadata": {
        "colab": {
          "base_uri": "https://localhost:8080/"
        },
        "id": "_WE8GK50B2Aq",
        "outputId": "5bf40e05-c376-41b8-e091-31afa57cea8f"
      },
      "outputs": [
        {
          "name": "stdout",
          "output_type": "stream",
          "text": [
            "name= EUNCHAN\n",
            "age= 13\n",
            "gender= MALE\n",
            "gender= 6\n",
            "class_num= 2\n",
            "name= SIEUN\n",
            "age= 13\n",
            "gender= FEMALE\n",
            "gender= 6\n",
            "class_num= 3\n"
          ]
        }
      ],
      "source": [
        "def print_profile(name, age, gender, class_num):\n",
        "  print (\"name=\", name)\n",
        "  print (\"age=\", age)\n",
        "  print (\"gender=\", gender)\n",
        "  grade = age - 7\n",
        "  print (\"gender=\", grade)\n",
        "  print (\"class_num=\", class_num)\n",
        "\n",
        "print_profile(\"EUNCHAN\", 13, \"MALE\", 2)"
      ]
    },
    {
      "cell_type": "code",
      "execution_count": null,
      "metadata": {
        "id": "S2GMYzs50To8"
      },
      "outputs": [],
      "source": [
        "#@title <font color = ''><font aize = 3><b>Cos_Study "
      ]
    },
    {
      "cell_type": "code",
      "execution_count": null,
      "metadata": {
        "colab": {
          "base_uri": "https://localhost:8080/"
        },
        "id": "Sobc63MWzlib",
        "outputId": "79a97620-4761-46f7-ef7b-379b7090a001"
      },
      "outputs": [
        {
          "name": "stdout",
          "output_type": "stream",
          "text": [
            "k:7\n",
            "n:5\n",
            "7\n",
            "10\n",
            "13\n",
            "16\n",
            "19\n"
          ]
        }
      ],
      "source": [
        "k = int(input('k:'))\n",
        "n = int(input('n:'))\n",
        "for i in range(0,n*3,3):\n",
        "  print(k+i)"
      ]
    },
    {
      "cell_type": "code",
      "execution_count": null,
      "metadata": {
        "colab": {
          "base_uri": "https://localhost:8080/"
        },
        "id": "VB0hvSlT4Wka",
        "outputId": "b1bfec8a-5944-421d-8e30-9450ea2123f7"
      },
      "outputs": [
        {
          "name": "stdout",
          "output_type": "stream",
          "text": [
            "1 2 3 4 9\n",
            "4 개\n"
          ]
        }
      ],
      "source": [
        "count = 0\n",
        "n = input()\n",
        "n = list(n.split())\n",
        "for i in range(len(n)):\n",
        "  n[i] = int(n[i])\n",
        "\n",
        "for y in n:\n",
        "  if y != 7:\n",
        "    count += 1\n",
        "  else:\n",
        "    break\n",
        "print(count,'개')"
      ]
    },
    {
      "cell_type": "code",
      "execution_count": null,
      "metadata": {
        "colab": {
          "base_uri": "https://localhost:8080/"
        },
        "id": "ahoRpiGk9BYg",
        "outputId": "77b08729-0e7d-4843-b3c8-1022d61af290"
      },
      "outputs": [
        {
          "name": "stdout",
          "output_type": "stream",
          "text": [
            "1 4 2 5 \n"
          ]
        }
      ],
      "source": [
        "count = 0\n",
        "n = input()\n",
        "n = map(lambda x:int(x),n.split())\n",
        "for y in n:\n",
        "  if y <= 4:\n",
        "    count += 1"
      ]
    },
    {
      "cell_type": "code",
      "execution_count": null,
      "metadata": {
        "colab": {
          "base_uri": "https://localhost:8080/"
        },
        "id": "yNTkqPnJC0wR",
        "outputId": "5fd12792-930d-4dde-b7eb-ee334a878e02"
      },
      "outputs": [
        {
          "name": "stdout",
          "output_type": "stream",
          "text": [
            "입력:1\n",
            "입력:9\n",
            "1\n"
          ]
        }
      ],
      "source": [
        "def function(n1,n2):\n",
        "  if n1 < n2:\n",
        "    return n1\n",
        "  else:\n",
        "    return n2\n",
        "\n",
        "y = int(input('입력:'))\n",
        "x = int(input('입력:'))\n",
        "print(function(x,y))\n",
        "\n"
      ]
    },
    {
      "cell_type": "code",
      "execution_count": null,
      "metadata": {
        "colab": {
          "base_uri": "https://localhost:8080/"
        },
        "id": "8xJdsuGNE4Pp",
        "outputId": "d32ae275-0b34-4762-9e25-4515743bece1"
      },
      "outputs": [
        {
          "name": "stdout",
          "output_type": "stream",
          "text": [
            "3\n",
            "3\n"
          ]
        }
      ],
      "source": [
        "a = 'AbSoluTe'\n",
        "def aa(a):\n",
        "  a2 = list(a.upper())\n",
        "  a = list(a)\n",
        "  count = 0\n",
        "  for i in range(len(a)):\n",
        "    if a[i] == a2[i]:\n",
        "      count += 1\n",
        "  return count\n",
        "\n",
        "print(aa(a))\n",
        "\n",
        "def what_english(a):\n",
        "  count2 = 0\n",
        "  a = list(a)\n",
        "  for i in a:\n",
        "    if 'A' <= i <='Z':\n",
        "      count2 += 1\n",
        "  return count\n",
        "print(what_english('AbSoluTe'))"
      ]
    },
    {
      "cell_type": "code",
      "execution_count": null,
      "metadata": {
        "colab": {
          "base_uri": "https://localhost:8080/"
        },
        "id": "CuxVWj6c02vC",
        "outputId": "ad007a1f-94dc-48f4-94f9-22964aceebff"
      },
      "outputs": [
        {
          "name": "stdout",
          "output_type": "stream",
          "text": [
            "7\n",
            "41 23 27 0 12 36 30\n",
            "짝수를 모두 더한 값은 78입니다\n"
          ]
        }
      ],
      "source": [
        "# 7\n",
        "# 41 23 27 0 12 36 30\n",
        "\n",
        "n = int(input())\n",
        "arr = list(map(lambda x:int(x),input().split()))\n",
        "sum = 0\n",
        "for i in range(len(arr)):\n",
        "  if (arr[i]/2) == (arr[i]//2):\n",
        "    sum += arr[i]\n",
        "print(f'짝수를 모두 더한 값은 {sum}입니다')\n"
      ]
    },
    {
      "cell_type": "code",
      "execution_count": null,
      "metadata": {
        "colab": {
          "base_uri": "https://localhost:8080/"
        },
        "id": "SQU0wY4G23yb",
        "outputId": "b4ba8a8d-dc47-415e-ce9e-3a4d5585db1b"
      },
      "outputs": [
        {
          "name": "stdout",
          "output_type": "stream",
          "text": [
            "1.5\n",
            "1\n"
          ]
        }
      ],
      "source": [
        "print(3/2)\n",
        "print(3//2)"
      ]
    },
    {
      "cell_type": "code",
      "execution_count": null,
      "metadata": {
        "colab": {
          "base_uri": "https://localhost:8080/"
        },
        "id": "fYJ7zLbZ6cdH",
        "outputId": "b2c4709a-0944-4e16-fb6e-02f5a91cc379"
      },
      "outputs": [
        {
          "name": "stdout",
          "output_type": "stream",
          "text": [
            "5\n",
            "['*****', '-', '****', '--', '***', '---', '**', '----', '*', '-----']\n"
          ]
        }
      ],
      "source": [
        "n = int(input())\n",
        "n2 = n + 1\n",
        "lists = []\n",
        "count = 0\n",
        "s = ''\n",
        "for i in range(n):\n",
        "  lists.append('*'*n)\n",
        "  lists.append('-'*(n2-int(len(lists[i+count]))))\n",
        "  n -= 1\n",
        "  count += 1\n",
        "print(lists)\n",
        "#for i in range(n2*2):\n"
      ]
    },
    {
      "cell_type": "code",
      "execution_count": null,
      "metadata": {
        "colab": {
          "base_uri": "https://localhost:8080/",
          "height": 35
        },
        "id": "LX8hnIVR7tTY",
        "outputId": "a55fbbdf-c87b-45d0-bce5-ff9c33b45c36"
      },
      "outputs": [
        {
          "data": {
            "application/vnd.google.colaboratory.intrinsic+json": {
              "type": "string"
            },
            "text/plain": [
              "'*****-****--***---**----*-----'"
            ]
          },
          "execution_count": 32,
          "metadata": {},
          "output_type": "execute_result"
        }
      ],
      "source": [
        "''.join(lists)"
      ]
    },
    {
      "cell_type": "code",
      "execution_count": null,
      "metadata": {
        "colab": {
          "base_uri": "https://localhost:8080/",
          "height": 253
        },
        "id": "1nTgpYHj-ztx",
        "outputId": "528c3094-d4b3-4ae3-a98d-b318bee4dd3a"
      },
      "outputs": [
        {
          "name": "stdout",
          "output_type": "stream",
          "text": [
            "7\n"
          ]
        },
        {
          "ename": "IndexError",
          "evalue": "ignored",
          "output_type": "error",
          "traceback": [
            "\u001b[0;31m---------------------------------------------------------------------------\u001b[0m",
            "\u001b[0;31mIndexError\u001b[0m                                Traceback (most recent call last)",
            "\u001b[0;32m<ipython-input-33-c4cdd87090aa>\u001b[0m in \u001b[0;36m<module>\u001b[0;34m\u001b[0m\n\u001b[1;32m      5\u001b[0m \u001b[0;32mfor\u001b[0m \u001b[0mi\u001b[0m \u001b[0;32min\u001b[0m \u001b[0mrange\u001b[0m\u001b[0;34m(\u001b[0m\u001b[0mn\u001b[0m\u001b[0;34m)\u001b[0m\u001b[0;34m:\u001b[0m\u001b[0;34m\u001b[0m\u001b[0;34m\u001b[0m\u001b[0m\n\u001b[1;32m      6\u001b[0m   \u001b[0ms\u001b[0m \u001b[0;34m+=\u001b[0m \u001b[0;34m'*'\u001b[0m\u001b[0;34m*\u001b[0m\u001b[0mn\u001b[0m\u001b[0;34m\u001b[0m\u001b[0;34m\u001b[0m\u001b[0m\n\u001b[0;32m----> 7\u001b[0;31m   \u001b[0ms\u001b[0m \u001b[0;34m+=\u001b[0m \u001b[0;34m'-'\u001b[0m\u001b[0;34m*\u001b[0m\u001b[0;34m(\u001b[0m\u001b[0mn2\u001b[0m\u001b[0;34m-\u001b[0m\u001b[0mint\u001b[0m\u001b[0;34m(\u001b[0m\u001b[0mlen\u001b[0m\u001b[0;34m(\u001b[0m\u001b[0mlists\u001b[0m\u001b[0;34m[\u001b[0m\u001b[0mi\u001b[0m\u001b[0;34m+\u001b[0m\u001b[0mcount\u001b[0m\u001b[0;34m]\u001b[0m\u001b[0;34m)\u001b[0m\u001b[0;34m)\u001b[0m\u001b[0;34m)\u001b[0m\u001b[0;34m\u001b[0m\u001b[0;34m\u001b[0m\u001b[0m\n\u001b[0m\u001b[1;32m      8\u001b[0m   \u001b[0mn\u001b[0m \u001b[0;34m-=\u001b[0m \u001b[0;36m1\u001b[0m\u001b[0;34m\u001b[0m\u001b[0;34m\u001b[0m\u001b[0m\n\u001b[1;32m      9\u001b[0m   \u001b[0mcount\u001b[0m \u001b[0;34m+=\u001b[0m \u001b[0;36m1\u001b[0m\u001b[0;34m\u001b[0m\u001b[0;34m\u001b[0m\u001b[0m\n",
            "\u001b[0;31mIndexError\u001b[0m: list index out of range"
          ]
        }
      ],
      "source": [
        "n = int(input())\n",
        "n2 = n + 1\n",
        "count = 0\n",
        "s = ''\n",
        "for i in range(n):\n",
        "  s += '*'*n\n",
        "  s += '-'*(n2-int(len(lists[i+count])))\n",
        "  n -= 1\n",
        "  count += 1\n",
        "print(lists)\n",
        "#for i in range(n2*2):\n"
      ]
    },
    {
      "cell_type": "code",
      "execution_count": null,
      "metadata": {
        "colab": {
          "base_uri": "https://localhost:8080/"
        },
        "id": "qNUq7WWr-w-p",
        "outputId": "6136c2ef-30e4-4250-e515-69ac9dd50373"
      },
      "outputs": [
        {
          "name": "stdout",
          "output_type": "stream",
          "text": [
            "7\n",
            "0 7\n",
            "1 6\n",
            "2 5\n",
            "3 4\n",
            "4 3\n",
            "5 2\n",
            "6 1\n",
            "*******-******--*****---****----***-----**------*\n"
          ]
        }
      ],
      "source": [
        "n = int(input())\n",
        "s =''\n",
        "for i,d in enumerate(list(range(n,0,-1))):\n",
        "  s += '-'*(i)\n",
        "  s += '*'*d\n",
        "\n",
        "  print(i,d)\n",
        "print(s)"
      ]
    },
    {
      "cell_type": "code",
      "execution_count": null,
      "metadata": {
        "colab": {
          "base_uri": "https://localhost:8080/"
        },
        "id": "ArhjKJAqALz5",
        "outputId": "176aee35-681a-47b9-aa5b-c8d9ad175058"
      },
      "outputs": [
        {
          "name": "stdout",
          "output_type": "stream",
          "text": [
            "[4324234234, 2342, 32, 20, 3, 2]\n"
          ]
        }
      ],
      "source": [
        "a = [2,3,20,32,2342,4324234234]\n",
        "a.sort(reverse = True)\n",
        "print(a)"
      ]
    },
    {
      "cell_type": "code",
      "execution_count": null,
      "metadata": {
        "id": "LxnTWKXqEiz_"
      },
      "outputs": [],
      "source": [
        "#숙제\n",
        "#50 25 45 75 30 - 하루매출액\n",
        "#반환값 30 전날과 매출액차이를 계산하여 출력,재일 많이 늘은 날에 매출액을 출력한다."
      ]
    },
    {
      "cell_type": "code",
      "execution_count": null,
      "metadata": {
        "colab": {
          "base_uri": "https://localhost:8080/"
        },
        "id": "M7-uYEFjgdVR",
        "outputId": "81b674c1-e9e5-4aa0-862f-69d6451fb3a3"
      },
      "outputs": [
        {
          "name": "stdout",
          "output_type": "stream",
          "text": [
            "[None, 45, 25, -20, -30]\n",
            "매출액의 최대 습상승기록은 45 입니다.\n"
          ]
        }
      ],
      "source": [
        "def largest_number(a=[]):\n",
        "  sales_difference = []\n",
        "  for i in range(len(a)-1):\n",
        "    sales_difference.append(a[i] - a[i+1])\n",
        "  sales_difference.sort(reverse = True)\n",
        "  sales_difference.insert(0,None)\n",
        "  print(sales_difference)\n",
        "  return sales_difference[1]\n",
        "\n",
        "print('매출액의 최대 습상승기록은',largest_number([50,25,45,75,30]),'입니다.')"
      ]
    },
    {
      "cell_type": "code",
      "execution_count": null,
      "metadata": {
        "colab": {
          "base_uri": "https://localhost:8080/",
          "height": 502
        },
        "id": "ij1g2yBwK-Tl",
        "outputId": "0d50536e-839c-4d27-a153-0a0bd38e0958"
      },
      "outputs": [
        {
          "ename": "KeyboardInterrupt",
          "evalue": "ignored",
          "output_type": "error",
          "traceback": [
            "\u001b[0;31m---------------------------------------------------------------------------\u001b[0m",
            "\u001b[0;31mKeyboardInterrupt\u001b[0m                         Traceback (most recent call last)",
            "\u001b[0;32m<ipython-input-3-5bca3b72d637>\u001b[0m in \u001b[0;36m<module>\u001b[0;34m\u001b[0m\n\u001b[1;32m     12\u001b[0m   \u001b[0;32mreturn\u001b[0m \u001b[0msales_difference\u001b[0m\u001b[0;34m[\u001b[0m\u001b[0;36m1\u001b[0m\u001b[0;34m]\u001b[0m\u001b[0;34m,\u001b[0m\u001b[0msales_difference\u001b[0m\u001b[0;34m\u001b[0m\u001b[0;34m\u001b[0m\u001b[0m\n\u001b[1;32m     13\u001b[0m \u001b[0;34m\u001b[0m\u001b[0m\n\u001b[0;32m---> 14\u001b[0;31m \u001b[0mnum\u001b[0m \u001b[0;34m=\u001b[0m \u001b[0;34m(\u001b[0m\u001b[0mint\u001b[0m\u001b[0;34m(\u001b[0m\u001b[0minput\u001b[0m\u001b[0;34m(\u001b[0m\u001b[0;34m'비교할날자수:'\u001b[0m\u001b[0;34m)\u001b[0m\u001b[0;34m)\u001b[0m\u001b[0;34m)\u001b[0m\u001b[0;34m\u001b[0m\u001b[0;34m\u001b[0m\u001b[0m\n\u001b[0m\u001b[1;32m     15\u001b[0m \u001b[0;32mfor\u001b[0m \u001b[0mi\u001b[0m \u001b[0;32min\u001b[0m \u001b[0mrange\u001b[0m\u001b[0;34m(\u001b[0m\u001b[0mnum\u001b[0m\u001b[0;34m)\u001b[0m\u001b[0;34m:\u001b[0m\u001b[0;34m\u001b[0m\u001b[0;34m\u001b[0m\u001b[0m\n\u001b[1;32m     16\u001b[0m   \u001b[0mlists\u001b[0m\u001b[0;34m.\u001b[0m\u001b[0mappend\u001b[0m\u001b[0;34m(\u001b[0m\u001b[0mint\u001b[0m\u001b[0;34m(\u001b[0m\u001b[0minput\u001b[0m\u001b[0;34m(\u001b[0m\u001b[0;34mf'{nows - relativedelta(days=i)}의 매출:'\u001b[0m\u001b[0;34m)\u001b[0m\u001b[0;34m)\u001b[0m\u001b[0;34m)\u001b[0m\u001b[0;34m\u001b[0m\u001b[0;34m\u001b[0m\u001b[0m\n",
            "\u001b[0;32m/usr/local/lib/python3.8/dist-packages/ipykernel/kernelbase.py\u001b[0m in \u001b[0;36mraw_input\u001b[0;34m(self, prompt)\u001b[0m\n\u001b[1;32m    858\u001b[0m                 \u001b[0;34m\"raw_input was called, but this frontend does not support input requests.\"\u001b[0m\u001b[0;34m\u001b[0m\u001b[0;34m\u001b[0m\u001b[0m\n\u001b[1;32m    859\u001b[0m             )\n\u001b[0;32m--> 860\u001b[0;31m         return self._input_request(str(prompt),\n\u001b[0m\u001b[1;32m    861\u001b[0m             \u001b[0mself\u001b[0m\u001b[0;34m.\u001b[0m\u001b[0m_parent_ident\u001b[0m\u001b[0;34m,\u001b[0m\u001b[0;34m\u001b[0m\u001b[0;34m\u001b[0m\u001b[0m\n\u001b[1;32m    862\u001b[0m             \u001b[0mself\u001b[0m\u001b[0;34m.\u001b[0m\u001b[0m_parent_header\u001b[0m\u001b[0;34m,\u001b[0m\u001b[0;34m\u001b[0m\u001b[0;34m\u001b[0m\u001b[0m\n",
            "\u001b[0;32m/usr/local/lib/python3.8/dist-packages/ipykernel/kernelbase.py\u001b[0m in \u001b[0;36m_input_request\u001b[0;34m(self, prompt, ident, parent, password)\u001b[0m\n\u001b[1;32m    902\u001b[0m             \u001b[0;32mexcept\u001b[0m \u001b[0mKeyboardInterrupt\u001b[0m\u001b[0;34m:\u001b[0m\u001b[0;34m\u001b[0m\u001b[0;34m\u001b[0m\u001b[0m\n\u001b[1;32m    903\u001b[0m                 \u001b[0;31m# re-raise KeyboardInterrupt, to truncate traceback\u001b[0m\u001b[0;34m\u001b[0m\u001b[0;34m\u001b[0m\u001b[0;34m\u001b[0m\u001b[0m\n\u001b[0;32m--> 904\u001b[0;31m                 \u001b[0;32mraise\u001b[0m \u001b[0mKeyboardInterrupt\u001b[0m\u001b[0;34m(\u001b[0m\u001b[0;34m\"Interrupted by user\"\u001b[0m\u001b[0;34m)\u001b[0m \u001b[0;32mfrom\u001b[0m \u001b[0;32mNone\u001b[0m\u001b[0;34m\u001b[0m\u001b[0;34m\u001b[0m\u001b[0m\n\u001b[0m\u001b[1;32m    905\u001b[0m             \u001b[0;32mexcept\u001b[0m \u001b[0mException\u001b[0m \u001b[0;32mas\u001b[0m \u001b[0me\u001b[0m\u001b[0;34m:\u001b[0m\u001b[0;34m\u001b[0m\u001b[0;34m\u001b[0m\u001b[0m\n\u001b[1;32m    906\u001b[0m                 \u001b[0mself\u001b[0m\u001b[0;34m.\u001b[0m\u001b[0mlog\u001b[0m\u001b[0;34m.\u001b[0m\u001b[0mwarning\u001b[0m\u001b[0;34m(\u001b[0m\u001b[0;34m\"Invalid Message:\"\u001b[0m\u001b[0;34m,\u001b[0m \u001b[0mexc_info\u001b[0m\u001b[0;34m=\u001b[0m\u001b[0;32mTrue\u001b[0m\u001b[0;34m)\u001b[0m\u001b[0;34m\u001b[0m\u001b[0;34m\u001b[0m\u001b[0m\n",
            "\u001b[0;31mKeyboardInterrupt\u001b[0m: Interrupted by user"
          ]
        }
      ],
      "source": [
        "from datetime import datetime\n",
        "from dateutil.relativedelta import relativedelta                                                                       \n",
        "nows = datetime.now()\n",
        "lists = []\n",
        "def largest_number(a=[]):\n",
        "  sales_difference = []\n",
        "  for i in range(len(a)-1):\n",
        "    sales_difference.append(a[i+1] - a[i])\n",
        "  sales_difference.sort(reverse = True)\n",
        "  sales_difference.insert(0,None)\n",
        "  #print(sales_difference)\n",
        "  return sales_difference[1],sales_difference\n",
        "\n",
        "num = (int(input('비교할날자수:')))\n",
        "for i in range(num):\n",
        "  lists.append(int(input(f'{nows - relativedelta(days=i)}의 매출:')))\n",
        "  #print(lists)\n",
        "print('매출액의 최대 급상승기록은',largest_number(lists)[0],'입니다.')\n",
        "print('매출액의 상승기록은',largest_number(lists)[1],'입니다.')"
      ]
    },
    {
      "cell_type": "code",
      "execution_count": null,
      "metadata": {
        "colab": {
          "base_uri": "https://localhost:8080/"
        },
        "id": "QU7KAPQvc5HD",
        "outputId": "3eb8717d-56a2-42b0-84f0-86d9e32963b9"
      },
      "outputs": [
        {
          "name": "stdout",
          "output_type": "stream",
          "text": [
            "2023-02-14 05:47:07.938304\n",
            "2023-02-13 05:47:07.938304\n",
            "2023-02-12 05:47:07.938304\n",
            "2023-02-11 05:47:07.938304\n"
          ]
        }
      ],
      "source": [
        "# from datetime import datetime\n",
        "# from dateutil.relativedelta import relativedelta\n",
        "# now = datetime.now()\n",
        "# before_one_day = now - relativedelta(days=0)\n",
        "# for i in range(4):\n",
        "#   before_one_day = now - relativedelta(days=i)\n",
        "#   print(before_one_day)"
      ]
    },
    {
      "cell_type": "code",
      "execution_count": null,
      "metadata": {
        "colab": {
          "base_uri": "https://localhost:8080/"
        },
        "id": "wvGZa4q014Mf",
        "outputId": "c14454c7-b747-40fb-ce84-9e75ac85552e"
      },
      "outputs": [
        {
          "name": "stdout",
          "output_type": "stream",
          "text": [
            "AbC\n",
            "1\n",
            "AASSsss\n",
            "4\n"
          ]
        }
      ],
      "source": [
        "\n",
        "def islowers(a):\n",
        "  counter = 0 \n",
        "  for i in range(0,len(a)):\n",
        "    if a[i].islower():\n",
        "      counter += 1\n",
        "  return counter\n",
        "\n",
        "def isuppers(a):\n",
        "  counter = 0\n",
        "  for i in range(0,len(a)):\n",
        "    if a[i].isupper():\n",
        "      counter += 1\n",
        "  return counter\n",
        "print(islowers(input()))\n",
        "print(isuppers(input()))"
      ]
    },
    {
      "cell_type": "code",
      "execution_count": null,
      "metadata": {
        "colab": {
          "base_uri": "https://localhost:8080/"
        },
        "id": "1gOUK1YB_YE6",
        "outputId": "84f08854-a0e9-44cd-a2d6-702e46141577"
      },
      "outputs": [
        {
          "name": "stdout",
          "output_type": "stream",
          "text": [
            "Acc\n",
            "Bbb\n",
            "Bbb\n"
          ]
        }
      ],
      "source": [
        "str1 = input()\n",
        "str2 = input()\n",
        "print(str2 if str1[0] < str2[0] else str1)"
      ]
    },
    {
      "cell_type": "code",
      "execution_count": null,
      "metadata": {
        "colab": {
          "base_uri": "https://localhost:8080/"
        },
        "id": "zthufEUfKLKq",
        "outputId": "ed046536-f859-4fd6-95b9-ff61e37e148a"
      },
      "outputs": [
        {
          "name": "stdout",
          "output_type": "stream",
          "text": [
            "[True, False, False, False, True, True, True, False, False, False]\n"
          ]
        }
      ],
      "source": [
        "def soiution():\n",
        "  answer = [False]*10\n",
        "  for person in range(1,k+1):\n",
        "    for multiple in range(person, 11 ,person):\n",
        "      answer[multiple-1] = (False if answer[multiple-1] == True else True)\n",
        "  return answer\n",
        "\n",
        "def soiution1(k):\n",
        "  answer = [False]*10\n",
        "  for person in range(1,k+1):\n",
        "    for multiple in range(person, 11 ,person):\n",
        "      answer[multiple-1] = not answer[multiple-1]\n",
        "  return answer\n",
        "\n",
        "print(soiution1(3))\n",
        "\n",
        "\n"
      ]
    },
    {
      "cell_type": "code",
      "execution_count": null,
      "metadata": {
        "colab": {
          "base_uri": "https://localhost:8080/"
        },
        "id": "N8ErAEwPSVbv",
        "outputId": "81ea8b4c-333b-41d0-d383-1bec33203c04"
      },
      "outputs": [
        {
          "output_type": "stream",
          "name": "stdout",
          "text": [
            "[0, 1, 3, 0, 1, 0, 0, 0, 0, 0, 0]\n",
            "None\n"
          ]
        }
      ],
      "source": [
        "max_product_number = 10\n",
        "def func_a(gloves):\n",
        "\tcounter = [0 for _ in range(max_product_number + 1)]\n",
        "\tfor x in gloves:\n",
        "\t\tcounter[x] += 1\n",
        "\tprint(counter)\n",
        " \n",
        "left_gloves = [2, 1, 2, 2, 4]\n",
        "print(func_a(left_gloves))"
      ]
    },
    {
      "cell_type": "code",
      "source": [
        "str = input()\n",
        "\n",
        "for i in range(0,len(str)):\n",
        "  for j in range(0,i+1):\n",
        "    print('%s' % str[j], end = '')\n",
        "  print(end=' ')"
      ],
      "metadata": {
        "colab": {
          "base_uri": "https://localhost:8080/",
          "height": 381
        },
        "id": "XYIaUci21hz3",
        "outputId": "61bd4a1a-7ba9-4b84-bb46-091a3b4f65bb"
      },
      "execution_count": null,
      "outputs": [
        {
          "output_type": "error",
          "ename": "KeyboardInterrupt",
          "evalue": "ignored",
          "traceback": [
            "\u001b[0;31m---------------------------------------------------------------------------\u001b[0m",
            "\u001b[0;31mKeyboardInterrupt\u001b[0m                         Traceback (most recent call last)",
            "\u001b[0;32m<ipython-input-4-631a5a0948d4>\u001b[0m in \u001b[0;36m<module>\u001b[0;34m\u001b[0m\n\u001b[0;32m----> 1\u001b[0;31m \u001b[0mstr\u001b[0m \u001b[0;34m=\u001b[0m \u001b[0minput\u001b[0m\u001b[0;34m(\u001b[0m\u001b[0;34m)\u001b[0m\u001b[0;34m\u001b[0m\u001b[0;34m\u001b[0m\u001b[0m\n\u001b[0m\u001b[1;32m      2\u001b[0m \u001b[0;34m\u001b[0m\u001b[0m\n\u001b[1;32m      3\u001b[0m \u001b[0;32mfor\u001b[0m \u001b[0mi\u001b[0m \u001b[0;32min\u001b[0m \u001b[0mrange\u001b[0m\u001b[0;34m(\u001b[0m\u001b[0;36m0\u001b[0m\u001b[0;34m,\u001b[0m\u001b[0mlen\u001b[0m\u001b[0;34m(\u001b[0m\u001b[0mstr\u001b[0m\u001b[0;34m)\u001b[0m\u001b[0;34m)\u001b[0m\u001b[0;34m:\u001b[0m\u001b[0;34m\u001b[0m\u001b[0;34m\u001b[0m\u001b[0m\n\u001b[1;32m      4\u001b[0m   \u001b[0;32mfor\u001b[0m \u001b[0mj\u001b[0m \u001b[0;32min\u001b[0m \u001b[0mrange\u001b[0m\u001b[0;34m(\u001b[0m\u001b[0;36m0\u001b[0m\u001b[0;34m,\u001b[0m\u001b[0mi\u001b[0m\u001b[0;34m)\u001b[0m\u001b[0;34m:\u001b[0m\u001b[0;34m\u001b[0m\u001b[0;34m\u001b[0m\u001b[0m\n\u001b[1;32m      5\u001b[0m     \u001b[0mprint\u001b[0m\u001b[0;34m(\u001b[0m\u001b[0;34m'%s'\u001b[0m \u001b[0;34m%\u001b[0m \u001b[0mstr\u001b[0m\u001b[0;34m[\u001b[0m\u001b[0mj\u001b[0m\u001b[0;34m]\u001b[0m\u001b[0;34m,\u001b[0m \u001b[0mend\u001b[0m \u001b[0;34m=\u001b[0m \u001b[0;34m''\u001b[0m\u001b[0;34m)\u001b[0m\u001b[0;34m\u001b[0m\u001b[0;34m\u001b[0m\u001b[0m\n",
            "\u001b[0;32m/usr/local/lib/python3.8/dist-packages/ipykernel/kernelbase.py\u001b[0m in \u001b[0;36mraw_input\u001b[0;34m(self, prompt)\u001b[0m\n\u001b[1;32m    858\u001b[0m                 \u001b[0;34m\"raw_input was called, but this frontend does not support input requests.\"\u001b[0m\u001b[0;34m\u001b[0m\u001b[0;34m\u001b[0m\u001b[0m\n\u001b[1;32m    859\u001b[0m             )\n\u001b[0;32m--> 860\u001b[0;31m         return self._input_request(str(prompt),\n\u001b[0m\u001b[1;32m    861\u001b[0m             \u001b[0mself\u001b[0m\u001b[0;34m.\u001b[0m\u001b[0m_parent_ident\u001b[0m\u001b[0;34m,\u001b[0m\u001b[0;34m\u001b[0m\u001b[0;34m\u001b[0m\u001b[0m\n\u001b[1;32m    862\u001b[0m             \u001b[0mself\u001b[0m\u001b[0;34m.\u001b[0m\u001b[0m_parent_header\u001b[0m\u001b[0;34m,\u001b[0m\u001b[0;34m\u001b[0m\u001b[0;34m\u001b[0m\u001b[0m\n",
            "\u001b[0;32m/usr/local/lib/python3.8/dist-packages/ipykernel/kernelbase.py\u001b[0m in \u001b[0;36m_input_request\u001b[0;34m(self, prompt, ident, parent, password)\u001b[0m\n\u001b[1;32m    902\u001b[0m             \u001b[0;32mexcept\u001b[0m \u001b[0mKeyboardInterrupt\u001b[0m\u001b[0;34m:\u001b[0m\u001b[0;34m\u001b[0m\u001b[0;34m\u001b[0m\u001b[0m\n\u001b[1;32m    903\u001b[0m                 \u001b[0;31m# re-raise KeyboardInterrupt, to truncate traceback\u001b[0m\u001b[0;34m\u001b[0m\u001b[0;34m\u001b[0m\u001b[0;34m\u001b[0m\u001b[0m\n\u001b[0;32m--> 904\u001b[0;31m                 \u001b[0;32mraise\u001b[0m \u001b[0mKeyboardInterrupt\u001b[0m\u001b[0;34m(\u001b[0m\u001b[0;34m\"Interrupted by user\"\u001b[0m\u001b[0;34m)\u001b[0m \u001b[0;32mfrom\u001b[0m \u001b[0;32mNone\u001b[0m\u001b[0;34m\u001b[0m\u001b[0;34m\u001b[0m\u001b[0m\n\u001b[0m\u001b[1;32m    905\u001b[0m             \u001b[0;32mexcept\u001b[0m \u001b[0mException\u001b[0m \u001b[0;32mas\u001b[0m \u001b[0me\u001b[0m\u001b[0;34m:\u001b[0m\u001b[0;34m\u001b[0m\u001b[0;34m\u001b[0m\u001b[0m\n\u001b[1;32m    906\u001b[0m                 \u001b[0mself\u001b[0m\u001b[0;34m.\u001b[0m\u001b[0mlog\u001b[0m\u001b[0;34m.\u001b[0m\u001b[0mwarning\u001b[0m\u001b[0;34m(\u001b[0m\u001b[0;34m\"Invalid Message:\"\u001b[0m\u001b[0;34m,\u001b[0m \u001b[0mexc_info\u001b[0m\u001b[0;34m=\u001b[0m\u001b[0;32mTrue\u001b[0m\u001b[0;34m)\u001b[0m\u001b[0;34m\u001b[0m\u001b[0;34m\u001b[0m\u001b[0m\n",
            "\u001b[0;31mKeyboardInterrupt\u001b[0m: Interrupted by user"
          ]
        }
      ]
    },
    {
      "cell_type": "code",
      "source": [
        "def time(start,lists,n,m):\n",
        "  start.split(':')\n",
        "  lists = list(map(lambda x : x.split(':') , lists))\n",
        "  \n",
        "\n",
        "\n",
        "\n",
        "\n",
        "\n",
        "\n",
        "\n",
        "\n",
        "\n",
        "\n",
        "\n",
        "\n",
        "time('9:00',['9:00','9:23','9:40'],10,20)"
      ],
      "metadata": {
        "colab": {
          "base_uri": "https://localhost:8080/"
        },
        "id": "KpfIvyrFFdM4",
        "outputId": "0aad1aa3-16c5-4471-999d-9e4b491b67e8"
      },
      "execution_count": null,
      "outputs": [
        {
          "output_type": "stream",
          "name": "stdout",
          "text": [
            "[['9', '00'], ['9', '23'], ['9', '40']]\n"
          ]
        }
      ]
    },
    {
      "cell_type": "code",
      "source": [
        "def aa(umbrella,rainung):\n",
        "  count = 0\n",
        "  for i in raining:\n",
        "    if i in umbrella:# == False:\n",
        "      count += 1\n",
        "  return count\n",
        "\n",
        "\n",
        "umbrella = ['2013/09/16','2010/09/16','2014/09/16']\n",
        "raining = ['2013/09/16','2018/09/16','2018/02/31']\n",
        "aa(umbrella,raining)"
      ],
      "metadata": {
        "colab": {
          "base_uri": "https://localhost:8080/"
        },
        "id": "4PkZ8QrwRYi9",
        "outputId": "61c5e518-6544-4767-c964-f6730b1bce65"
      },
      "execution_count": null,
      "outputs": [
        {
          "output_type": "execute_result",
          "data": {
            "text/plain": [
              "1"
            ]
          },
          "metadata": {},
          "execution_count": 11
        }
      ]
    },
    {
      "cell_type": "code",
      "source": [
        "import pygame\n"
      ],
      "metadata": {
        "id": "9HZkW_VFSLYT",
        "outputId": "f03609e6-1ba5-415a-9d94-959bf8615349",
        "colab": {
          "base_uri": "https://localhost:8080/",
          "height": 305
        }
      },
      "execution_count": null,
      "outputs": [
        {
          "output_type": "error",
          "ename": "ModuleNotFoundError",
          "evalue": "ignored",
          "traceback": [
            "\u001b[0;31m---------------------------------------------------------------------------\u001b[0m",
            "\u001b[0;31mModuleNotFoundError\u001b[0m                       Traceback (most recent call last)",
            "\u001b[0;32m<ipython-input-1-671b35b41eba>\u001b[0m in \u001b[0;36m<module>\u001b[0;34m\u001b[0m\n\u001b[0;32m----> 1\u001b[0;31m \u001b[0;32mimport\u001b[0m \u001b[0mpygame\u001b[0m\u001b[0;34m\u001b[0m\u001b[0;34m\u001b[0m\u001b[0m\n\u001b[0m",
            "\u001b[0;31mModuleNotFoundError\u001b[0m: No module named 'pygame'",
            "",
            "\u001b[0;31m---------------------------------------------------------------------------\u001b[0;32m\nNOTE: If your import is failing due to a missing package, you can\nmanually install dependencies using either !pip or !apt.\n\nTo view examples of installing some common dependencies, click the\n\"Open Examples\" button below.\n\u001b[0;31m---------------------------------------------------------------------------\u001b[0m\n"
          ],
          "errorDetails": {
            "actions": [
              {
                "action": "open_url",
                "actionText": "Open Examples",
                "url": "/notebooks/snippets/importing_libraries.ipynb"
              }
            ]
          }
        }
      ]
    }
  ],
  "metadata": {
    "colab": {
      "provenance": [],
      "include_colab_link": true
    },
    "kernelspec": {
      "display_name": "Python 3",
      "name": "python3"
    },
    "language_info": {
      "name": "python"
    }
  },
  "nbformat": 4,
  "nbformat_minor": 0
}
